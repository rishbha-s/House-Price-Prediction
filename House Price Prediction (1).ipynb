{
 "cells": [
  {
   "cell_type": "markdown",
   "id": "e6d64583",
   "metadata": {},
   "source": [
    "### House Price Prediction using California Housing Prices Dataset"
   ]
  },
  {
   "cell_type": "code",
   "execution_count": 2,
   "id": "a0e3b007",
   "metadata": {},
   "outputs": [],
   "source": [
    "import pandas as pd\n",
    "import numpy as np\n",
    "import matplotlib.pyplot as plt\n",
    "import seaborn as sns"
   ]
  },
  {
   "cell_type": "code",
   "execution_count": 3,
   "id": "b1038013",
   "metadata": {},
   "outputs": [
    {
     "data": {
      "text/html": [
       "<div>\n",
       "<style scoped>\n",
       "    .dataframe tbody tr th:only-of-type {\n",
       "        vertical-align: middle;\n",
       "    }\n",
       "\n",
       "    .dataframe tbody tr th {\n",
       "        vertical-align: top;\n",
       "    }\n",
       "\n",
       "    .dataframe thead th {\n",
       "        text-align: right;\n",
       "    }\n",
       "</style>\n",
       "<table border=\"1\" class=\"dataframe\">\n",
       "  <thead>\n",
       "    <tr style=\"text-align: right;\">\n",
       "      <th></th>\n",
       "      <th>longitude</th>\n",
       "      <th>latitude</th>\n",
       "      <th>housing_median_age</th>\n",
       "      <th>total_rooms</th>\n",
       "      <th>total_bedrooms</th>\n",
       "      <th>population</th>\n",
       "      <th>households</th>\n",
       "      <th>median_income</th>\n",
       "      <th>median_house_value</th>\n",
       "      <th>ocean_proximity</th>\n",
       "    </tr>\n",
       "  </thead>\n",
       "  <tbody>\n",
       "    <tr>\n",
       "      <th>0</th>\n",
       "      <td>-122.23</td>\n",
       "      <td>37.88</td>\n",
       "      <td>41.0</td>\n",
       "      <td>880.0</td>\n",
       "      <td>129.0</td>\n",
       "      <td>322.0</td>\n",
       "      <td>126.0</td>\n",
       "      <td>8.3252</td>\n",
       "      <td>452600.0</td>\n",
       "      <td>NEAR BAY</td>\n",
       "    </tr>\n",
       "    <tr>\n",
       "      <th>1</th>\n",
       "      <td>-122.22</td>\n",
       "      <td>37.86</td>\n",
       "      <td>21.0</td>\n",
       "      <td>7099.0</td>\n",
       "      <td>1106.0</td>\n",
       "      <td>2401.0</td>\n",
       "      <td>1138.0</td>\n",
       "      <td>8.3014</td>\n",
       "      <td>358500.0</td>\n",
       "      <td>NEAR BAY</td>\n",
       "    </tr>\n",
       "    <tr>\n",
       "      <th>2</th>\n",
       "      <td>-122.24</td>\n",
       "      <td>37.85</td>\n",
       "      <td>52.0</td>\n",
       "      <td>1467.0</td>\n",
       "      <td>190.0</td>\n",
       "      <td>496.0</td>\n",
       "      <td>177.0</td>\n",
       "      <td>7.2574</td>\n",
       "      <td>352100.0</td>\n",
       "      <td>NEAR BAY</td>\n",
       "    </tr>\n",
       "    <tr>\n",
       "      <th>3</th>\n",
       "      <td>-122.25</td>\n",
       "      <td>37.85</td>\n",
       "      <td>52.0</td>\n",
       "      <td>1274.0</td>\n",
       "      <td>235.0</td>\n",
       "      <td>558.0</td>\n",
       "      <td>219.0</td>\n",
       "      <td>5.6431</td>\n",
       "      <td>341300.0</td>\n",
       "      <td>NEAR BAY</td>\n",
       "    </tr>\n",
       "    <tr>\n",
       "      <th>4</th>\n",
       "      <td>-122.25</td>\n",
       "      <td>37.85</td>\n",
       "      <td>52.0</td>\n",
       "      <td>1627.0</td>\n",
       "      <td>280.0</td>\n",
       "      <td>565.0</td>\n",
       "      <td>259.0</td>\n",
       "      <td>3.8462</td>\n",
       "      <td>342200.0</td>\n",
       "      <td>NEAR BAY</td>\n",
       "    </tr>\n",
       "  </tbody>\n",
       "</table>\n",
       "</div>"
      ],
      "text/plain": [
       "   longitude  latitude  housing_median_age  total_rooms  total_bedrooms  \\\n",
       "0    -122.23     37.88                41.0        880.0           129.0   \n",
       "1    -122.22     37.86                21.0       7099.0          1106.0   \n",
       "2    -122.24     37.85                52.0       1467.0           190.0   \n",
       "3    -122.25     37.85                52.0       1274.0           235.0   \n",
       "4    -122.25     37.85                52.0       1627.0           280.0   \n",
       "\n",
       "   population  households  median_income  median_house_value ocean_proximity  \n",
       "0       322.0       126.0         8.3252            452600.0        NEAR BAY  \n",
       "1      2401.0      1138.0         8.3014            358500.0        NEAR BAY  \n",
       "2       496.0       177.0         7.2574            352100.0        NEAR BAY  \n",
       "3       558.0       219.0         5.6431            341300.0        NEAR BAY  \n",
       "4       565.0       259.0         3.8462            342200.0        NEAR BAY  "
      ]
     },
     "execution_count": 3,
     "metadata": {},
     "output_type": "execute_result"
    }
   ],
   "source": [
    "df = pd.read_csv(r\"C:\\Users\\rishb\\Desktop\\Bharat Intern\\House Price Prediction\\housing.csv\")\n",
    "df.head()"
   ]
  },
  {
   "cell_type": "code",
   "execution_count": 4,
   "id": "88860a37",
   "metadata": {},
   "outputs": [
    {
     "data": {
      "text/plain": [
       "<1H OCEAN     9136\n",
       "INLAND        6551\n",
       "NEAR OCEAN    2658\n",
       "NEAR BAY      2290\n",
       "ISLAND           5\n",
       "Name: ocean_proximity, dtype: int64"
      ]
     },
     "execution_count": 4,
     "metadata": {},
     "output_type": "execute_result"
    }
   ],
   "source": [
    "df['ocean_proximity'].value_counts()"
   ]
  },
  {
   "cell_type": "code",
   "execution_count": 5,
   "id": "18de7b44",
   "metadata": {},
   "outputs": [
    {
     "data": {
      "text/html": [
       "<div>\n",
       "<style scoped>\n",
       "    .dataframe tbody tr th:only-of-type {\n",
       "        vertical-align: middle;\n",
       "    }\n",
       "\n",
       "    .dataframe tbody tr th {\n",
       "        vertical-align: top;\n",
       "    }\n",
       "\n",
       "    .dataframe thead th {\n",
       "        text-align: right;\n",
       "    }\n",
       "</style>\n",
       "<table border=\"1\" class=\"dataframe\">\n",
       "  <thead>\n",
       "    <tr style=\"text-align: right;\">\n",
       "      <th></th>\n",
       "      <th>&lt;1H OCEAN</th>\n",
       "      <th>INLAND</th>\n",
       "      <th>ISLAND</th>\n",
       "      <th>NEAR BAY</th>\n",
       "      <th>NEAR OCEAN</th>\n",
       "    </tr>\n",
       "  </thead>\n",
       "  <tbody>\n",
       "    <tr>\n",
       "      <th>0</th>\n",
       "      <td>0</td>\n",
       "      <td>0</td>\n",
       "      <td>0</td>\n",
       "      <td>1</td>\n",
       "      <td>0</td>\n",
       "    </tr>\n",
       "    <tr>\n",
       "      <th>1</th>\n",
       "      <td>0</td>\n",
       "      <td>0</td>\n",
       "      <td>0</td>\n",
       "      <td>1</td>\n",
       "      <td>0</td>\n",
       "    </tr>\n",
       "    <tr>\n",
       "      <th>2</th>\n",
       "      <td>0</td>\n",
       "      <td>0</td>\n",
       "      <td>0</td>\n",
       "      <td>1</td>\n",
       "      <td>0</td>\n",
       "    </tr>\n",
       "    <tr>\n",
       "      <th>3</th>\n",
       "      <td>0</td>\n",
       "      <td>0</td>\n",
       "      <td>0</td>\n",
       "      <td>1</td>\n",
       "      <td>0</td>\n",
       "    </tr>\n",
       "    <tr>\n",
       "      <th>4</th>\n",
       "      <td>0</td>\n",
       "      <td>0</td>\n",
       "      <td>0</td>\n",
       "      <td>1</td>\n",
       "      <td>0</td>\n",
       "    </tr>\n",
       "    <tr>\n",
       "      <th>...</th>\n",
       "      <td>...</td>\n",
       "      <td>...</td>\n",
       "      <td>...</td>\n",
       "      <td>...</td>\n",
       "      <td>...</td>\n",
       "    </tr>\n",
       "    <tr>\n",
       "      <th>20635</th>\n",
       "      <td>0</td>\n",
       "      <td>1</td>\n",
       "      <td>0</td>\n",
       "      <td>0</td>\n",
       "      <td>0</td>\n",
       "    </tr>\n",
       "    <tr>\n",
       "      <th>20636</th>\n",
       "      <td>0</td>\n",
       "      <td>1</td>\n",
       "      <td>0</td>\n",
       "      <td>0</td>\n",
       "      <td>0</td>\n",
       "    </tr>\n",
       "    <tr>\n",
       "      <th>20637</th>\n",
       "      <td>0</td>\n",
       "      <td>1</td>\n",
       "      <td>0</td>\n",
       "      <td>0</td>\n",
       "      <td>0</td>\n",
       "    </tr>\n",
       "    <tr>\n",
       "      <th>20638</th>\n",
       "      <td>0</td>\n",
       "      <td>1</td>\n",
       "      <td>0</td>\n",
       "      <td>0</td>\n",
       "      <td>0</td>\n",
       "    </tr>\n",
       "    <tr>\n",
       "      <th>20639</th>\n",
       "      <td>0</td>\n",
       "      <td>1</td>\n",
       "      <td>0</td>\n",
       "      <td>0</td>\n",
       "      <td>0</td>\n",
       "    </tr>\n",
       "  </tbody>\n",
       "</table>\n",
       "<p>20640 rows × 5 columns</p>\n",
       "</div>"
      ],
      "text/plain": [
       "       <1H OCEAN  INLAND  ISLAND  NEAR BAY  NEAR OCEAN\n",
       "0              0       0       0         1           0\n",
       "1              0       0       0         1           0\n",
       "2              0       0       0         1           0\n",
       "3              0       0       0         1           0\n",
       "4              0       0       0         1           0\n",
       "...          ...     ...     ...       ...         ...\n",
       "20635          0       1       0         0           0\n",
       "20636          0       1       0         0           0\n",
       "20637          0       1       0         0           0\n",
       "20638          0       1       0         0           0\n",
       "20639          0       1       0         0           0\n",
       "\n",
       "[20640 rows x 5 columns]"
      ]
     },
     "execution_count": 5,
     "metadata": {},
     "output_type": "execute_result"
    }
   ],
   "source": [
    "pd.get_dummies(df['ocean_proximity'])"
   ]
  },
  {
   "cell_type": "code",
   "execution_count": 6,
   "id": "8161260a",
   "metadata": {},
   "outputs": [
    {
     "data": {
      "text/html": [
       "<div>\n",
       "<style scoped>\n",
       "    .dataframe tbody tr th:only-of-type {\n",
       "        vertical-align: middle;\n",
       "    }\n",
       "\n",
       "    .dataframe tbody tr th {\n",
       "        vertical-align: top;\n",
       "    }\n",
       "\n",
       "    .dataframe thead th {\n",
       "        text-align: right;\n",
       "    }\n",
       "</style>\n",
       "<table border=\"1\" class=\"dataframe\">\n",
       "  <thead>\n",
       "    <tr style=\"text-align: right;\">\n",
       "      <th></th>\n",
       "      <th>longitude</th>\n",
       "      <th>latitude</th>\n",
       "      <th>housing_median_age</th>\n",
       "      <th>total_rooms</th>\n",
       "      <th>total_bedrooms</th>\n",
       "      <th>population</th>\n",
       "      <th>households</th>\n",
       "      <th>median_income</th>\n",
       "      <th>median_house_value</th>\n",
       "      <th>&lt;1H OCEAN</th>\n",
       "      <th>INLAND</th>\n",
       "      <th>ISLAND</th>\n",
       "      <th>NEAR BAY</th>\n",
       "      <th>NEAR OCEAN</th>\n",
       "    </tr>\n",
       "  </thead>\n",
       "  <tbody>\n",
       "    <tr>\n",
       "      <th>0</th>\n",
       "      <td>-122.23</td>\n",
       "      <td>37.88</td>\n",
       "      <td>41.0</td>\n",
       "      <td>880.0</td>\n",
       "      <td>129.0</td>\n",
       "      <td>322.0</td>\n",
       "      <td>126.0</td>\n",
       "      <td>8.3252</td>\n",
       "      <td>452600.0</td>\n",
       "      <td>0</td>\n",
       "      <td>0</td>\n",
       "      <td>0</td>\n",
       "      <td>1</td>\n",
       "      <td>0</td>\n",
       "    </tr>\n",
       "    <tr>\n",
       "      <th>1</th>\n",
       "      <td>-122.22</td>\n",
       "      <td>37.86</td>\n",
       "      <td>21.0</td>\n",
       "      <td>7099.0</td>\n",
       "      <td>1106.0</td>\n",
       "      <td>2401.0</td>\n",
       "      <td>1138.0</td>\n",
       "      <td>8.3014</td>\n",
       "      <td>358500.0</td>\n",
       "      <td>0</td>\n",
       "      <td>0</td>\n",
       "      <td>0</td>\n",
       "      <td>1</td>\n",
       "      <td>0</td>\n",
       "    </tr>\n",
       "    <tr>\n",
       "      <th>2</th>\n",
       "      <td>-122.24</td>\n",
       "      <td>37.85</td>\n",
       "      <td>52.0</td>\n",
       "      <td>1467.0</td>\n",
       "      <td>190.0</td>\n",
       "      <td>496.0</td>\n",
       "      <td>177.0</td>\n",
       "      <td>7.2574</td>\n",
       "      <td>352100.0</td>\n",
       "      <td>0</td>\n",
       "      <td>0</td>\n",
       "      <td>0</td>\n",
       "      <td>1</td>\n",
       "      <td>0</td>\n",
       "    </tr>\n",
       "    <tr>\n",
       "      <th>3</th>\n",
       "      <td>-122.25</td>\n",
       "      <td>37.85</td>\n",
       "      <td>52.0</td>\n",
       "      <td>1274.0</td>\n",
       "      <td>235.0</td>\n",
       "      <td>558.0</td>\n",
       "      <td>219.0</td>\n",
       "      <td>5.6431</td>\n",
       "      <td>341300.0</td>\n",
       "      <td>0</td>\n",
       "      <td>0</td>\n",
       "      <td>0</td>\n",
       "      <td>1</td>\n",
       "      <td>0</td>\n",
       "    </tr>\n",
       "    <tr>\n",
       "      <th>4</th>\n",
       "      <td>-122.25</td>\n",
       "      <td>37.85</td>\n",
       "      <td>52.0</td>\n",
       "      <td>1627.0</td>\n",
       "      <td>280.0</td>\n",
       "      <td>565.0</td>\n",
       "      <td>259.0</td>\n",
       "      <td>3.8462</td>\n",
       "      <td>342200.0</td>\n",
       "      <td>0</td>\n",
       "      <td>0</td>\n",
       "      <td>0</td>\n",
       "      <td>1</td>\n",
       "      <td>0</td>\n",
       "    </tr>\n",
       "  </tbody>\n",
       "</table>\n",
       "</div>"
      ],
      "text/plain": [
       "   longitude  latitude  housing_median_age  total_rooms  total_bedrooms  \\\n",
       "0    -122.23     37.88                41.0        880.0           129.0   \n",
       "1    -122.22     37.86                21.0       7099.0          1106.0   \n",
       "2    -122.24     37.85                52.0       1467.0           190.0   \n",
       "3    -122.25     37.85                52.0       1274.0           235.0   \n",
       "4    -122.25     37.85                52.0       1627.0           280.0   \n",
       "\n",
       "   population  households  median_income  median_house_value  <1H OCEAN  \\\n",
       "0       322.0       126.0         8.3252            452600.0          0   \n",
       "1      2401.0      1138.0         8.3014            358500.0          0   \n",
       "2       496.0       177.0         7.2574            352100.0          0   \n",
       "3       558.0       219.0         5.6431            341300.0          0   \n",
       "4       565.0       259.0         3.8462            342200.0          0   \n",
       "\n",
       "   INLAND  ISLAND  NEAR BAY  NEAR OCEAN  \n",
       "0       0       0         1           0  \n",
       "1       0       0         1           0  \n",
       "2       0       0         1           0  \n",
       "3       0       0         1           0  \n",
       "4       0       0         1           0  "
      ]
     },
     "execution_count": 6,
     "metadata": {},
     "output_type": "execute_result"
    }
   ],
   "source": [
    "df = pd.concat([df.drop('ocean_proximity',axis=1),\n",
    "                pd.get_dummies(df['ocean_proximity'])],axis=1)\n",
    "df.head()"
   ]
  },
  {
   "cell_type": "code",
   "execution_count": 7,
   "id": "15c626b3",
   "metadata": {},
   "outputs": [
    {
     "data": {
      "text/html": [
       "<div>\n",
       "<style scoped>\n",
       "    .dataframe tbody tr th:only-of-type {\n",
       "        vertical-align: middle;\n",
       "    }\n",
       "\n",
       "    .dataframe tbody tr th {\n",
       "        vertical-align: top;\n",
       "    }\n",
       "\n",
       "    .dataframe thead th {\n",
       "        text-align: right;\n",
       "    }\n",
       "</style>\n",
       "<table border=\"1\" class=\"dataframe\">\n",
       "  <thead>\n",
       "    <tr style=\"text-align: right;\">\n",
       "      <th></th>\n",
       "      <th>longitude</th>\n",
       "      <th>latitude</th>\n",
       "      <th>housing_median_age</th>\n",
       "      <th>total_rooms</th>\n",
       "      <th>total_bedrooms</th>\n",
       "      <th>population</th>\n",
       "      <th>households</th>\n",
       "      <th>median_income</th>\n",
       "      <th>&lt;1H OCEAN</th>\n",
       "      <th>INLAND</th>\n",
       "      <th>ISLAND</th>\n",
       "      <th>NEAR BAY</th>\n",
       "      <th>NEAR OCEAN</th>\n",
       "      <th>median_house_value</th>\n",
       "    </tr>\n",
       "  </thead>\n",
       "  <tbody>\n",
       "    <tr>\n",
       "      <th>0</th>\n",
       "      <td>-122.23</td>\n",
       "      <td>37.88</td>\n",
       "      <td>41.0</td>\n",
       "      <td>880.0</td>\n",
       "      <td>129.0</td>\n",
       "      <td>322.0</td>\n",
       "      <td>126.0</td>\n",
       "      <td>8.3252</td>\n",
       "      <td>0</td>\n",
       "      <td>0</td>\n",
       "      <td>0</td>\n",
       "      <td>1</td>\n",
       "      <td>0</td>\n",
       "      <td>452600.0</td>\n",
       "    </tr>\n",
       "    <tr>\n",
       "      <th>1</th>\n",
       "      <td>-122.22</td>\n",
       "      <td>37.86</td>\n",
       "      <td>21.0</td>\n",
       "      <td>7099.0</td>\n",
       "      <td>1106.0</td>\n",
       "      <td>2401.0</td>\n",
       "      <td>1138.0</td>\n",
       "      <td>8.3014</td>\n",
       "      <td>0</td>\n",
       "      <td>0</td>\n",
       "      <td>0</td>\n",
       "      <td>1</td>\n",
       "      <td>0</td>\n",
       "      <td>358500.0</td>\n",
       "    </tr>\n",
       "    <tr>\n",
       "      <th>2</th>\n",
       "      <td>-122.24</td>\n",
       "      <td>37.85</td>\n",
       "      <td>52.0</td>\n",
       "      <td>1467.0</td>\n",
       "      <td>190.0</td>\n",
       "      <td>496.0</td>\n",
       "      <td>177.0</td>\n",
       "      <td>7.2574</td>\n",
       "      <td>0</td>\n",
       "      <td>0</td>\n",
       "      <td>0</td>\n",
       "      <td>1</td>\n",
       "      <td>0</td>\n",
       "      <td>352100.0</td>\n",
       "    </tr>\n",
       "    <tr>\n",
       "      <th>3</th>\n",
       "      <td>-122.25</td>\n",
       "      <td>37.85</td>\n",
       "      <td>52.0</td>\n",
       "      <td>1274.0</td>\n",
       "      <td>235.0</td>\n",
       "      <td>558.0</td>\n",
       "      <td>219.0</td>\n",
       "      <td>5.6431</td>\n",
       "      <td>0</td>\n",
       "      <td>0</td>\n",
       "      <td>0</td>\n",
       "      <td>1</td>\n",
       "      <td>0</td>\n",
       "      <td>341300.0</td>\n",
       "    </tr>\n",
       "    <tr>\n",
       "      <th>4</th>\n",
       "      <td>-122.25</td>\n",
       "      <td>37.85</td>\n",
       "      <td>52.0</td>\n",
       "      <td>1627.0</td>\n",
       "      <td>280.0</td>\n",
       "      <td>565.0</td>\n",
       "      <td>259.0</td>\n",
       "      <td>3.8462</td>\n",
       "      <td>0</td>\n",
       "      <td>0</td>\n",
       "      <td>0</td>\n",
       "      <td>1</td>\n",
       "      <td>0</td>\n",
       "      <td>342200.0</td>\n",
       "    </tr>\n",
       "  </tbody>\n",
       "</table>\n",
       "</div>"
      ],
      "text/plain": [
       "   longitude  latitude  housing_median_age  total_rooms  total_bedrooms  \\\n",
       "0    -122.23     37.88                41.0        880.0           129.0   \n",
       "1    -122.22     37.86                21.0       7099.0          1106.0   \n",
       "2    -122.24     37.85                52.0       1467.0           190.0   \n",
       "3    -122.25     37.85                52.0       1274.0           235.0   \n",
       "4    -122.25     37.85                52.0       1627.0           280.0   \n",
       "\n",
       "   population  households  median_income  <1H OCEAN  INLAND  ISLAND  NEAR BAY  \\\n",
       "0       322.0       126.0         8.3252          0       0       0         1   \n",
       "1      2401.0      1138.0         8.3014          0       0       0         1   \n",
       "2       496.0       177.0         7.2574          0       0       0         1   \n",
       "3       558.0       219.0         5.6431          0       0       0         1   \n",
       "4       565.0       259.0         3.8462          0       0       0         1   \n",
       "\n",
       "   NEAR OCEAN  median_house_value  \n",
       "0           0            452600.0  \n",
       "1           0            358500.0  \n",
       "2           0            352100.0  \n",
       "3           0            341300.0  \n",
       "4           0            342200.0  "
      ]
     },
     "execution_count": 7,
     "metadata": {},
     "output_type": "execute_result"
    }
   ],
   "source": [
    "df = df[['longitude','latitude','housing_median_age','total_rooms',\n",
    "            'total_bedrooms','population',\n",
    "            'households','median_income',\n",
    "            '<1H OCEAN',\n",
    "            'INLAND','ISLAND',\n",
    "            'NEAR BAY','NEAR OCEAN', 'median_house_value']]\n",
    "df.head()"
   ]
  },
  {
   "cell_type": "code",
   "execution_count": 8,
   "id": "a7d08b3b",
   "metadata": {},
   "outputs": [
    {
     "data": {
      "text/html": [
       "<div>\n",
       "<style scoped>\n",
       "    .dataframe tbody tr th:only-of-type {\n",
       "        vertical-align: middle;\n",
       "    }\n",
       "\n",
       "    .dataframe tbody tr th {\n",
       "        vertical-align: top;\n",
       "    }\n",
       "\n",
       "    .dataframe thead th {\n",
       "        text-align: right;\n",
       "    }\n",
       "</style>\n",
       "<table border=\"1\" class=\"dataframe\">\n",
       "  <thead>\n",
       "    <tr style=\"text-align: right;\">\n",
       "      <th></th>\n",
       "      <th>longitude</th>\n",
       "      <th>latitude</th>\n",
       "      <th>housing_median_age</th>\n",
       "      <th>total_rooms</th>\n",
       "      <th>total_bedrooms</th>\n",
       "      <th>population</th>\n",
       "      <th>households</th>\n",
       "      <th>median_income</th>\n",
       "      <th>&lt;1H OCEAN</th>\n",
       "      <th>INLAND</th>\n",
       "      <th>ISLAND</th>\n",
       "      <th>NEAR BAY</th>\n",
       "      <th>NEAR OCEAN</th>\n",
       "      <th>median_house_value</th>\n",
       "    </tr>\n",
       "  </thead>\n",
       "  <tbody>\n",
       "    <tr>\n",
       "      <th>count</th>\n",
       "      <td>20640.000000</td>\n",
       "      <td>20640.000000</td>\n",
       "      <td>20640.000000</td>\n",
       "      <td>20640.000000</td>\n",
       "      <td>20433.000000</td>\n",
       "      <td>20640.000000</td>\n",
       "      <td>20640.000000</td>\n",
       "      <td>20640.000000</td>\n",
       "      <td>20640.000000</td>\n",
       "      <td>20640.000000</td>\n",
       "      <td>20640.000000</td>\n",
       "      <td>20640.000000</td>\n",
       "      <td>20640.000000</td>\n",
       "      <td>20640.000000</td>\n",
       "    </tr>\n",
       "    <tr>\n",
       "      <th>mean</th>\n",
       "      <td>-119.569704</td>\n",
       "      <td>35.631861</td>\n",
       "      <td>28.639486</td>\n",
       "      <td>2635.763081</td>\n",
       "      <td>537.870553</td>\n",
       "      <td>1425.476744</td>\n",
       "      <td>499.539680</td>\n",
       "      <td>3.870671</td>\n",
       "      <td>0.442636</td>\n",
       "      <td>0.317393</td>\n",
       "      <td>0.000242</td>\n",
       "      <td>0.110950</td>\n",
       "      <td>0.128779</td>\n",
       "      <td>206855.816909</td>\n",
       "    </tr>\n",
       "    <tr>\n",
       "      <th>std</th>\n",
       "      <td>2.003532</td>\n",
       "      <td>2.135952</td>\n",
       "      <td>12.585558</td>\n",
       "      <td>2181.615252</td>\n",
       "      <td>421.385070</td>\n",
       "      <td>1132.462122</td>\n",
       "      <td>382.329753</td>\n",
       "      <td>1.899822</td>\n",
       "      <td>0.496710</td>\n",
       "      <td>0.465473</td>\n",
       "      <td>0.015563</td>\n",
       "      <td>0.314077</td>\n",
       "      <td>0.334963</td>\n",
       "      <td>115395.615874</td>\n",
       "    </tr>\n",
       "    <tr>\n",
       "      <th>min</th>\n",
       "      <td>-124.350000</td>\n",
       "      <td>32.540000</td>\n",
       "      <td>1.000000</td>\n",
       "      <td>2.000000</td>\n",
       "      <td>1.000000</td>\n",
       "      <td>3.000000</td>\n",
       "      <td>1.000000</td>\n",
       "      <td>0.499900</td>\n",
       "      <td>0.000000</td>\n",
       "      <td>0.000000</td>\n",
       "      <td>0.000000</td>\n",
       "      <td>0.000000</td>\n",
       "      <td>0.000000</td>\n",
       "      <td>14999.000000</td>\n",
       "    </tr>\n",
       "    <tr>\n",
       "      <th>25%</th>\n",
       "      <td>-121.800000</td>\n",
       "      <td>33.930000</td>\n",
       "      <td>18.000000</td>\n",
       "      <td>1447.750000</td>\n",
       "      <td>296.000000</td>\n",
       "      <td>787.000000</td>\n",
       "      <td>280.000000</td>\n",
       "      <td>2.563400</td>\n",
       "      <td>0.000000</td>\n",
       "      <td>0.000000</td>\n",
       "      <td>0.000000</td>\n",
       "      <td>0.000000</td>\n",
       "      <td>0.000000</td>\n",
       "      <td>119600.000000</td>\n",
       "    </tr>\n",
       "    <tr>\n",
       "      <th>50%</th>\n",
       "      <td>-118.490000</td>\n",
       "      <td>34.260000</td>\n",
       "      <td>29.000000</td>\n",
       "      <td>2127.000000</td>\n",
       "      <td>435.000000</td>\n",
       "      <td>1166.000000</td>\n",
       "      <td>409.000000</td>\n",
       "      <td>3.534800</td>\n",
       "      <td>0.000000</td>\n",
       "      <td>0.000000</td>\n",
       "      <td>0.000000</td>\n",
       "      <td>0.000000</td>\n",
       "      <td>0.000000</td>\n",
       "      <td>179700.000000</td>\n",
       "    </tr>\n",
       "    <tr>\n",
       "      <th>75%</th>\n",
       "      <td>-118.010000</td>\n",
       "      <td>37.710000</td>\n",
       "      <td>37.000000</td>\n",
       "      <td>3148.000000</td>\n",
       "      <td>647.000000</td>\n",
       "      <td>1725.000000</td>\n",
       "      <td>605.000000</td>\n",
       "      <td>4.743250</td>\n",
       "      <td>1.000000</td>\n",
       "      <td>1.000000</td>\n",
       "      <td>0.000000</td>\n",
       "      <td>0.000000</td>\n",
       "      <td>0.000000</td>\n",
       "      <td>264725.000000</td>\n",
       "    </tr>\n",
       "    <tr>\n",
       "      <th>max</th>\n",
       "      <td>-114.310000</td>\n",
       "      <td>41.950000</td>\n",
       "      <td>52.000000</td>\n",
       "      <td>39320.000000</td>\n",
       "      <td>6445.000000</td>\n",
       "      <td>35682.000000</td>\n",
       "      <td>6082.000000</td>\n",
       "      <td>15.000100</td>\n",
       "      <td>1.000000</td>\n",
       "      <td>1.000000</td>\n",
       "      <td>1.000000</td>\n",
       "      <td>1.000000</td>\n",
       "      <td>1.000000</td>\n",
       "      <td>500001.000000</td>\n",
       "    </tr>\n",
       "  </tbody>\n",
       "</table>\n",
       "</div>"
      ],
      "text/plain": [
       "          longitude      latitude  housing_median_age   total_rooms  \\\n",
       "count  20640.000000  20640.000000        20640.000000  20640.000000   \n",
       "mean    -119.569704     35.631861           28.639486   2635.763081   \n",
       "std        2.003532      2.135952           12.585558   2181.615252   \n",
       "min     -124.350000     32.540000            1.000000      2.000000   \n",
       "25%     -121.800000     33.930000           18.000000   1447.750000   \n",
       "50%     -118.490000     34.260000           29.000000   2127.000000   \n",
       "75%     -118.010000     37.710000           37.000000   3148.000000   \n",
       "max     -114.310000     41.950000           52.000000  39320.000000   \n",
       "\n",
       "       total_bedrooms    population    households  median_income  \\\n",
       "count    20433.000000  20640.000000  20640.000000   20640.000000   \n",
       "mean       537.870553   1425.476744    499.539680       3.870671   \n",
       "std        421.385070   1132.462122    382.329753       1.899822   \n",
       "min          1.000000      3.000000      1.000000       0.499900   \n",
       "25%        296.000000    787.000000    280.000000       2.563400   \n",
       "50%        435.000000   1166.000000    409.000000       3.534800   \n",
       "75%        647.000000   1725.000000    605.000000       4.743250   \n",
       "max       6445.000000  35682.000000   6082.000000      15.000100   \n",
       "\n",
       "          <1H OCEAN        INLAND        ISLAND      NEAR BAY    NEAR OCEAN  \\\n",
       "count  20640.000000  20640.000000  20640.000000  20640.000000  20640.000000   \n",
       "mean       0.442636      0.317393      0.000242      0.110950      0.128779   \n",
       "std        0.496710      0.465473      0.015563      0.314077      0.334963   \n",
       "min        0.000000      0.000000      0.000000      0.000000      0.000000   \n",
       "25%        0.000000      0.000000      0.000000      0.000000      0.000000   \n",
       "50%        0.000000      0.000000      0.000000      0.000000      0.000000   \n",
       "75%        1.000000      1.000000      0.000000      0.000000      0.000000   \n",
       "max        1.000000      1.000000      1.000000      1.000000      1.000000   \n",
       "\n",
       "       median_house_value  \n",
       "count        20640.000000  \n",
       "mean        206855.816909  \n",
       "std         115395.615874  \n",
       "min          14999.000000  \n",
       "25%         119600.000000  \n",
       "50%         179700.000000  \n",
       "75%         264725.000000  \n",
       "max         500001.000000  "
      ]
     },
     "execution_count": 8,
     "metadata": {},
     "output_type": "execute_result"
    }
   ],
   "source": [
    "df.describe()"
   ]
  },
  {
   "cell_type": "code",
   "execution_count": 9,
   "id": "f54a5ca1",
   "metadata": {},
   "outputs": [
    {
     "name": "stdout",
     "output_type": "stream",
     "text": [
      "<class 'pandas.core.frame.DataFrame'>\n",
      "RangeIndex: 20640 entries, 0 to 20639\n",
      "Data columns (total 14 columns):\n",
      " #   Column              Non-Null Count  Dtype  \n",
      "---  ------              --------------  -----  \n",
      " 0   longitude           20640 non-null  float64\n",
      " 1   latitude            20640 non-null  float64\n",
      " 2   housing_median_age  20640 non-null  float64\n",
      " 3   total_rooms         20640 non-null  float64\n",
      " 4   total_bedrooms      20433 non-null  float64\n",
      " 5   population          20640 non-null  float64\n",
      " 6   households          20640 non-null  float64\n",
      " 7   median_income       20640 non-null  float64\n",
      " 8   <1H OCEAN           20640 non-null  uint8  \n",
      " 9   INLAND              20640 non-null  uint8  \n",
      " 10  ISLAND              20640 non-null  uint8  \n",
      " 11  NEAR BAY            20640 non-null  uint8  \n",
      " 12  NEAR OCEAN          20640 non-null  uint8  \n",
      " 13  median_house_value  20640 non-null  float64\n",
      "dtypes: float64(9), uint8(5)\n",
      "memory usage: 1.5 MB\n"
     ]
    }
   ],
   "source": [
    "df.info()"
   ]
  },
  {
   "cell_type": "code",
   "execution_count": 10,
   "id": "ca3e5ab4",
   "metadata": {},
   "outputs": [
    {
     "data": {
      "text/plain": [
       "(20640, 14)"
      ]
     },
     "execution_count": 10,
     "metadata": {},
     "output_type": "execute_result"
    }
   ],
   "source": [
    "df.shape"
   ]
  },
  {
   "cell_type": "code",
   "execution_count": 11,
   "id": "32719503",
   "metadata": {},
   "outputs": [
    {
     "data": {
      "text/plain": [
       "longitude               0\n",
       "latitude                0\n",
       "housing_median_age      0\n",
       "total_rooms             0\n",
       "total_bedrooms        207\n",
       "population              0\n",
       "households              0\n",
       "median_income           0\n",
       "<1H OCEAN               0\n",
       "INLAND                  0\n",
       "ISLAND                  0\n",
       "NEAR BAY                0\n",
       "NEAR OCEAN              0\n",
       "median_house_value      0\n",
       "dtype: int64"
      ]
     },
     "execution_count": 11,
     "metadata": {},
     "output_type": "execute_result"
    }
   ],
   "source": [
    "df.isnull().sum()"
   ]
  },
  {
   "cell_type": "code",
   "execution_count": 12,
   "id": "9c938386",
   "metadata": {},
   "outputs": [
    {
     "data": {
      "text/plain": [
       "20433"
      ]
     },
     "execution_count": 12,
     "metadata": {},
     "output_type": "execute_result"
    }
   ],
   "source": [
    "df = df.dropna()\n",
    "len(df)"
   ]
  },
  {
   "cell_type": "code",
   "execution_count": 13,
   "id": "c63a453f",
   "metadata": {},
   "outputs": [
    {
     "data": {
      "text/plain": [
       "array([[<Axes: title={'center': 'longitude'}>,\n",
       "        <Axes: title={'center': 'latitude'}>,\n",
       "        <Axes: title={'center': 'housing_median_age'}>,\n",
       "        <Axes: title={'center': 'total_rooms'}>],\n",
       "       [<Axes: title={'center': 'total_bedrooms'}>,\n",
       "        <Axes: title={'center': 'population'}>,\n",
       "        <Axes: title={'center': 'households'}>,\n",
       "        <Axes: title={'center': 'median_income'}>],\n",
       "       [<Axes: title={'center': '<1H OCEAN'}>,\n",
       "        <Axes: title={'center': 'INLAND'}>,\n",
       "        <Axes: title={'center': 'ISLAND'}>,\n",
       "        <Axes: title={'center': 'NEAR BAY'}>],\n",
       "       [<Axes: title={'center': 'NEAR OCEAN'}>,\n",
       "        <Axes: title={'center': 'median_house_value'}>, <Axes: >,\n",
       "        <Axes: >]], dtype=object)"
      ]
     },
     "execution_count": 13,
     "metadata": {},
     "output_type": "execute_result"
    },
    {
     "data": {
      "image/png": "[encoded data removed]",
      "text/plain": [
       "<Figure size 1500x1000 with 16 Axes>"
      ]
     },
     "metadata": {},
     "output_type": "display_data"
    }
   ],
   "source": [
    "df.hist(figsize=(15,10))"
   ]
  },
  {
   "cell_type": "markdown",
   "id": "237e35dc",
   "metadata": {},
   "source": [
    "Splitting the data into 3 sets as we're comparing different models so we want to save the test data for the very end i.e., \n",
    "for the optimal model. "
   ]
  },
  {
   "cell_type": "code",
   "execution_count": 14,
   "id": "2ca2bc4d",
   "metadata": {},
   "outputs": [
    {
     "data": {
      "text/plain": [
       "(18000, 1217, 1218)"
      ]
     },
     "execution_count": 14,
     "metadata": {},
     "output_type": "execute_result"
    }
   ],
   "source": [
    "train_pd, test_pd, val_pd = df[:18000], df[18000:19217], df[19215:]\n",
    "len(train_pd), len(test_pd), len(val_pd)"
   ]
  },
  {
   "cell_type": "code",
   "execution_count": 15,
   "id": "198f1ad7",
   "metadata": {},
   "outputs": [
    {
     "data": {
      "text/plain": [
       "((18000, 13), (18000,), (1218, 13), (1218,), (1217, 13), (1217,))"
      ]
     },
     "execution_count": 15,
     "metadata": {},
     "output_type": "execute_result"
    }
   ],
   "source": [
    "X_train, y_train = train_pd.to_numpy()[:, :-1], train_pd.to_numpy()[:, -1]\n",
    "X_val, y_val = val_pd.to_numpy()[:, :-1], val_pd.to_numpy()[:, -1]\n",
    "X_test, y_test = test_pd.to_numpy()[:, :-1], test_pd.to_numpy()[:, -1]\n",
    "\n",
    "X_train.shape, y_train.shape, X_val.shape, y_val.shape, X_test.shape, y_test.shape"
   ]
  },
  {
   "cell_type": "code",
   "execution_count": 16,
   "id": "2afd04d8",
   "metadata": {},
   "outputs": [],
   "source": [
    "from sklearn.preprocessing import StandardScaler\n",
    "import numpy as np\n",
    "\n",
    "scaler = StandardScaler().fit(X_train[:, :8])\n",
    "\n",
    "def preprocessor(X):\n",
    "    A = np.copy(X)\n",
    "    A[:, :8] = scaler.transform(A[:, :8])\n",
    "    return A\n",
    "\n",
    "X_train, X_val, X_test = preprocessor(X_train), preprocessor(X_val), preprocessor(X_test)"
   ]
  },
  {
   "cell_type": "code",
   "execution_count": 17,
   "id": "730cb466",
   "metadata": {},
   "outputs": [
    {
     "data": {
      "text/plain": [
       "((18000, 13), (1218, 13), (1217, 13))"
      ]
     },
     "execution_count": 17,
     "metadata": {},
     "output_type": "execute_result"
    }
   ],
   "source": [
    "X_train.shape, X_val.shape, X_test.shape"
   ]
  },
  {
   "cell_type": "code",
   "execution_count": 18,
   "id": "9b7bd781",
   "metadata": {},
   "outputs": [
    {
     "data": {
      "text/plain": [
       "<Axes: >"
      ]
     },
     "execution_count": 18,
     "metadata": {},
     "output_type": "execute_result"
    },
    {
     "data": {
      "image/png": "[encoded data removed]",
      "text/plain": [
       "<Figure size 1500x1000 with 2 Axes>"
      ]
     },
     "metadata": {},
     "output_type": "display_data"
    }
   ],
   "source": [
    "plt.figure(figsize=(15,10))\n",
    "sns.heatmap(df.corr(), annot=True, cmap='YlGnBu')"
   ]
  },
  {
   "cell_type": "code",
   "execution_count": 19,
   "id": "cb122cad",
   "metadata": {},
   "outputs": [
    {
     "data": {
      "text/plain": [
       "(69708.7008419755, 53805.65992509067)"
      ]
     },
     "execution_count": 19,
     "metadata": {},
     "output_type": "execute_result"
    }
   ],
   "source": [
    "from sklearn.metrics import mean_squared_error as mse\n",
    "from sklearn.linear_model import LinearRegression\n",
    "\n",
    "lm = LinearRegression().fit(X_train, y_train)\n",
    "mse(lm.predict(X_train), y_train, squared=False), mse(lm.predict(X_val), y_val, squared=False)"
   ]
  },
  {
   "cell_type": "code",
   "execution_count": 20,
   "id": "a59eebb9",
   "metadata": {},
   "outputs": [
    {
     "data": {
      "text/plain": [
       "(53885.21865117171, 52788.32880186733)"
      ]
     },
     "execution_count": 20,
     "metadata": {},
     "output_type": "execute_result"
    }
   ],
   "source": [
    "from sklearn.neighbors import KNeighborsRegressor\n",
    "\n",
    "knn = KNeighborsRegressor(n_neighbors=10).fit(X_train, y_train)\n",
    "mse(knn.predict(X_train), y_train, squared=False), mse(knn.predict(X_val), y_val, squared=False)"
   ]
  },
  {
   "cell_type": "code",
   "execution_count": 21,
   "id": "89ed8fce",
   "metadata": {},
   "outputs": [
    {
     "data": {
      "text/plain": [
       "(42950.425480083104, 57739.265936739066)"
      ]
     },
     "execution_count": 21,
     "metadata": {},
     "output_type": "execute_result"
    }
   ],
   "source": [
    "from sklearn.ensemble import RandomForestRegressor\n",
    "\n",
    "rfr = RandomForestRegressor(max_depth=10).fit(X_train, y_train)\n",
    "mse(rfr.predict(X_train), y_train, squared=False), mse(rfr.predict(X_val), y_val, squared=False)"
   ]
  },
  {
   "cell_type": "code",
   "execution_count": 22,
   "id": "e9d0f5f9",
   "metadata": {},
   "outputs": [
    {
     "data": {
      "text/plain": [
       "(46531.496661409874, 51289.73346643205)"
      ]
     },
     "execution_count": 22,
     "metadata": {},
     "output_type": "execute_result"
    }
   ],
   "source": [
    "from sklearn.ensemble import GradientBoostingRegressor\n",
    "\n",
    "gbr = GradientBoostingRegressor(n_estimators=250).fit(X_train, y_train)\n",
    "mse(gbr.predict(X_train), y_train, squared=False), mse(gbr.predict(X_val), y_val, squared=False)"
   ]
  },
  {
   "cell_type": "code",
   "execution_count": 23,
   "id": "526543c0",
   "metadata": {},
   "outputs": [],
   "source": [
    "# We can say that RFR is the most optimal since it performs better on testing data than training data compared to other models"
   ]
  },
  {
   "cell_type": "code",
   "execution_count": 24,
   "id": "d0de8c0e",
   "metadata": {},
   "outputs": [
    {
     "name": "stdout",
     "output_type": "stream",
     "text": [
      "WARNING:tensorflow:From C:\\Users\\rishb\\anaconda3\\lib\\site-packages\\keras\\src\\losses.py:2976: The name tf.losses.sparse_softmax_cross_entropy is deprecated. Please use tf.compat.v1.losses.sparse_softmax_cross_entropy instead.\n",
      "\n",
      "WARNING:tensorflow:From C:\\Users\\rishb\\anaconda3\\lib\\site-packages\\keras\\src\\backend.py:873: The name tf.get_default_graph is deprecated. Please use tf.compat.v1.get_default_graph instead.\n",
      "\n",
      "Epoch 1/100\n",
      "WARNING:tensorflow:From C:\\Users\\rishb\\anaconda3\\lib\\site-packages\\keras\\src\\utils\\tf_utils.py:492: The name tf.ragged.RaggedTensorValue is deprecated. Please use tf.compat.v1.ragged.RaggedTensorValue instead.\n",
      "\n",
      "562/563 [============================>.] - ETA: 0s - loss: 52464824320.0000 - root_mean_squared_error: 229052.0156INFO:tensorflow:Assets written to: models\\simple_nn\\assets\n"
     ]
    },
    {
     "name": "stderr",
     "output_type": "stream",
     "text": [
      "INFO:tensorflow:Assets written to: models\\simple_nn\\assets\n"
     ]
    },
    {
     "name": "stdout",
     "output_type": "stream",
     "text": [
      "563/563 [==============================] - 5s 6ms/step - loss: 52445474816.0000 - root_mean_squared_error: 229009.7656 - val_loss: 23291504640.0000 - val_root_mean_squared_error: 152615.5469\n",
      "Epoch 2/100\n",
      "557/563 [============================>.] - ETA: 0s - loss: 33963542528.0000 - root_mean_squared_error: 184292.0000INFO:tensorflow:Assets written to: models\\simple_nn\\assets\n"
     ]
    },
    {
     "name": "stderr",
     "output_type": "stream",
     "text": [
      "INFO:tensorflow:Assets written to: models\\simple_nn\\assets\n"
     ]
    },
    {
     "name": "stdout",
     "output_type": "stream",
     "text": [
      "563/563 [==============================] - 3s 5ms/step - loss: 33858162688.0000 - root_mean_squared_error: 184005.8750 - val_loss: 11849710592.0000 - val_root_mean_squared_error: 108856.3750\n",
      "Epoch 3/100\n",
      "558/563 [============================>.] - ETA: 0s - loss: 14675362816.0000 - root_mean_squared_error: 121141.9141INFO:tensorflow:Assets written to: models\\simple_nn\\assets\n"
     ]
    },
    {
     "name": "stderr",
     "output_type": "stream",
     "text": [
      "INFO:tensorflow:Assets written to: models\\simple_nn\\assets\n"
     ]
    },
    {
     "name": "stdout",
     "output_type": "stream",
     "text": [
      "563/563 [==============================] - 3s 5ms/step - loss: 14611188736.0000 - root_mean_squared_error: 120876.7500 - val_loss: 3836333312.0000 - val_root_mean_squared_error: 61938.1406\n",
      "Epoch 4/100\n",
      "563/563 [==============================] - ETA: 0s - loss: 6354408960.0000 - root_mean_squared_error: 79714.5469INFO:tensorflow:Assets written to: models\\simple_nn\\assets\n"
     ]
    },
    {
     "name": "stderr",
     "output_type": "stream",
     "text": [
      "INFO:tensorflow:Assets written to: models\\simple_nn\\assets\n"
     ]
    },
    {
     "name": "stdout",
     "output_type": "stream",
     "text": [
      "563/563 [==============================] - 3s 5ms/step - loss: 6354408960.0000 - root_mean_squared_error: 79714.5469 - val_loss: 3121791232.0000 - val_root_mean_squared_error: 55872.9922\n",
      "Epoch 5/100\n",
      "559/563 [============================>.] - ETA: 0s - loss: 5229516288.0000 - root_mean_squared_error: 72315.3984INFO:tensorflow:Assets written to: models\\simple_nn\\assets\n"
     ]
    },
    {
     "name": "stderr",
     "output_type": "stream",
     "text": [
      "INFO:tensorflow:Assets written to: models\\simple_nn\\assets\n"
     ]
    },
    {
     "name": "stdout",
     "output_type": "stream",
     "text": [
      "563/563 [==============================] - 3s 5ms/step - loss: 5238291968.0000 - root_mean_squared_error: 72376.0469 - val_loss: 2967933952.0000 - val_root_mean_squared_error: 54478.7461\n",
      "Epoch 6/100\n",
      "561/563 [============================>.] - ETA: 0s - loss: 5025403904.0000 - root_mean_squared_error: 70890.0859INFO:tensorflow:Assets written to: models\\simple_nn\\assets\n"
     ]
    },
    {
     "name": "stderr",
     "output_type": "stream",
     "text": [
      "INFO:tensorflow:Assets written to: models\\simple_nn\\assets\n"
     ]
    },
    {
     "name": "stdout",
     "output_type": "stream",
     "text": [
      "563/563 [==============================] - 3s 5ms/step - loss: 5026971136.0000 - root_mean_squared_error: 70901.1328 - val_loss: 2855219200.0000 - val_root_mean_squared_error: 53434.2500\n",
      "Epoch 7/100\n",
      "547/563 [============================>.] - ETA: 0s - loss: 4939208192.0000 - root_mean_squared_error: 70279.5000INFO:tensorflow:Assets written to: models\\simple_nn\\assets\n"
     ]
    },
    {
     "name": "stderr",
     "output_type": "stream",
     "text": [
      "INFO:tensorflow:Assets written to: models\\simple_nn\\assets\n"
     ]
    },
    {
     "name": "stdout",
     "output_type": "stream",
     "text": [
      "563/563 [==============================] - 3s 4ms/step - loss: 4949007360.0000 - root_mean_squared_error: 70349.1797 - val_loss: 2819932416.0000 - val_root_mean_squared_error: 53103.0352\n",
      "Epoch 8/100\n",
      "555/563 [============================>.] - ETA: 0s - loss: 4906588672.0000 - root_mean_squared_error: 70047.0469INFO:tensorflow:Assets written to: models\\simple_nn\\assets\n"
     ]
    },
    {
     "name": "stderr",
     "output_type": "stream",
     "text": [
      "INFO:tensorflow:Assets written to: models\\simple_nn\\assets\n"
     ]
    },
    {
     "name": "stdout",
     "output_type": "stream",
     "text": [
      "563/563 [==============================] - 3s 5ms/step - loss: 4909910016.0000 - root_mean_squared_error: 70070.7500 - val_loss: 2796743168.0000 - val_root_mean_squared_error: 52884.2422\n",
      "Epoch 9/100\n",
      "563/563 [==============================] - 2s 3ms/step - loss: 4884317184.0000 - root_mean_squared_error: 69887.8906 - val_loss: 2796903168.0000 - val_root_mean_squared_error: 52885.7539\n",
      "Epoch 10/100\n",
      "563/563 [==============================] - 2s 3ms/step - loss: 4866920960.0000 - root_mean_squared_error: 69763.3203 - val_loss: 2801869056.0000 - val_root_mean_squared_error: 52932.6836\n",
      "Epoch 11/100\n",
      "563/563 [==============================] - 2s 3ms/step - loss: 4850987008.0000 - root_mean_squared_error: 69649.0234 - val_loss: 2812476160.0000 - val_root_mean_squared_error: 53032.7852\n",
      "Epoch 12/100\n",
      "563/563 [==============================] - 2s 3ms/step - loss: 4841242112.0000 - root_mean_squared_error: 69579.0312 - val_loss: 2804631296.0000 - val_root_mean_squared_error: 52958.7695\n",
      "Epoch 13/100\n",
      "563/563 [==============================] - 2s 3ms/step - loss: 4831696896.0000 - root_mean_squared_error: 69510.4062 - val_loss: 2822042112.0000 - val_root_mean_squared_error: 53122.8945\n",
      "Epoch 14/100\n",
      "563/563 [==============================] - 2s 3ms/step - loss: 4824251392.0000 - root_mean_squared_error: 69456.8281 - val_loss: 2813842176.0000 - val_root_mean_squared_error: 53045.6602\n",
      "Epoch 15/100\n",
      "563/563 [==============================] - 2s 3ms/step - loss: 4816663552.0000 - root_mean_squared_error: 69402.1875 - val_loss: 2814301696.0000 - val_root_mean_squared_error: 53049.9922\n",
      "Epoch 16/100\n",
      "563/563 [==============================] - 2s 3ms/step - loss: 4812392448.0000 - root_mean_squared_error: 69371.4062 - val_loss: 2809396992.0000 - val_root_mean_squared_error: 53003.7461\n",
      "Epoch 17/100\n",
      "563/563 [==============================] - 2s 3ms/step - loss: 4807791616.0000 - root_mean_squared_error: 69338.2422 - val_loss: 2802469120.0000 - val_root_mean_squared_error: 52938.3516\n",
      "Epoch 18/100\n",
      "563/563 [==============================] - 2s 3ms/step - loss: 4803333632.0000 - root_mean_squared_error: 69306.0859 - val_loss: 2817032960.0000 - val_root_mean_squared_error: 53075.7305\n",
      "Epoch 19/100\n",
      "563/563 [==============================] - 2s 3ms/step - loss: 4799007232.0000 - root_mean_squared_error: 69274.8672 - val_loss: 2810744320.0000 - val_root_mean_squared_error: 53016.4531\n",
      "Epoch 20/100\n",
      "563/563 [==============================] - 2s 3ms/step - loss: 4796268032.0000 - root_mean_squared_error: 69255.0938 - val_loss: 2815568384.0000 - val_root_mean_squared_error: 53061.9297\n",
      "Epoch 21/100\n",
      "563/563 [==============================] - 2s 3ms/step - loss: 4792699904.0000 - root_mean_squared_error: 69229.3281 - val_loss: 2818302464.0000 - val_root_mean_squared_error: 53087.6875\n",
      "Epoch 22/100\n",
      "563/563 [==============================] - 2s 3ms/step - loss: 4791515648.0000 - root_mean_squared_error: 69220.7734 - val_loss: 2818078464.0000 - val_root_mean_squared_error: 53085.5781\n",
      "Epoch 23/100\n",
      "563/563 [==============================] - 2s 3ms/step - loss: 4788179456.0000 - root_mean_squared_error: 69196.6719 - val_loss: 2815213568.0000 - val_root_mean_squared_error: 53058.5859\n",
      "Epoch 24/100\n",
      "563/563 [==============================] - 2s 3ms/step - loss: 4786201088.0000 - root_mean_squared_error: 69182.3750 - val_loss: 2814868224.0000 - val_root_mean_squared_error: 53055.3320\n",
      "Epoch 25/100\n",
      "563/563 [==============================] - 2s 3ms/step - loss: 4784038400.0000 - root_mean_squared_error: 69166.7422 - val_loss: 2815626496.0000 - val_root_mean_squared_error: 53062.4766\n",
      "Epoch 26/100\n",
      "563/563 [==============================] - 2s 3ms/step - loss: 4782810112.0000 - root_mean_squared_error: 69157.8672 - val_loss: 2826704384.0000 - val_root_mean_squared_error: 53166.7617\n",
      "Epoch 27/100\n",
      "563/563 [==============================] - 2s 3ms/step - loss: 4779937792.0000 - root_mean_squared_error: 69137.0938 - val_loss: 2824254976.0000 - val_root_mean_squared_error: 53143.7188\n",
      "Epoch 28/100\n",
      "563/563 [==============================] - 2s 3ms/step - loss: 4779297792.0000 - root_mean_squared_error: 69132.4688 - val_loss: 2807479040.0000 - val_root_mean_squared_error: 52985.6484\n",
      "Epoch 29/100\n",
      "563/563 [==============================] - 2s 3ms/step - loss: 4777353728.0000 - root_mean_squared_error: 69118.4062 - val_loss: 2806387968.0000 - val_root_mean_squared_error: 52975.3516\n",
      "Epoch 30/100\n",
      "563/563 [==============================] - 2s 3ms/step - loss: 4775055872.0000 - root_mean_squared_error: 69101.7812 - val_loss: 2820928256.0000 - val_root_mean_squared_error: 53112.4102\n",
      "Epoch 31/100\n",
      "563/563 [==============================] - 2s 3ms/step - loss: 4775481344.0000 - root_mean_squared_error: 69104.8594 - val_loss: 2799054336.0000 - val_root_mean_squared_error: 52906.0898\n",
      "Epoch 32/100\n",
      "563/563 [==============================] - 2s 3ms/step - loss: 4772833792.0000 - root_mean_squared_error: 69085.6953 - val_loss: 2814714624.0000 - val_root_mean_squared_error: 53053.8828\n",
      "Epoch 33/100\n",
      "563/563 [==============================] - 2s 3ms/step - loss: 4771997696.0000 - root_mean_squared_error: 69079.6484 - val_loss: 2798569984.0000 - val_root_mean_squared_error: 52901.5117\n",
      "Epoch 34/100\n",
      "563/563 [==============================] - 2s 3ms/step - loss: 4770837504.0000 - root_mean_squared_error: 69071.2500 - val_loss: 2818886912.0000 - val_root_mean_squared_error: 53093.1914\n",
      "Epoch 35/100\n",
      "550/563 [============================>.] - ETA: 0s - loss: 4762476032.0000 - root_mean_squared_error: 69010.6953INFO:tensorflow:Assets written to: models\\simple_nn\\assets\n"
     ]
    },
    {
     "name": "stderr",
     "output_type": "stream",
     "text": [
      "INFO:tensorflow:Assets written to: models\\simple_nn\\assets\n"
     ]
    },
    {
     "name": "stdout",
     "output_type": "stream",
     "text": [
      "563/563 [==============================] - 3s 5ms/step - loss: 4768188928.0000 - root_mean_squared_error: 69052.0703 - val_loss: 2790385408.0000 - val_root_mean_squared_error: 52824.0977\n",
      "Epoch 36/100\n",
      "563/563 [==============================] - 2s 3ms/step - loss: 4766781952.0000 - root_mean_squared_error: 69041.8828 - val_loss: 2817409792.0000 - val_root_mean_squared_error: 53079.2773\n",
      "Epoch 37/100\n",
      "563/563 [==============================] - 2s 3ms/step - loss: 4765121536.0000 - root_mean_squared_error: 69029.8594 - val_loss: 2804622592.0000 - val_root_mean_squared_error: 52958.6875\n",
      "Epoch 38/100\n",
      "550/563 [============================>.] - ETA: 0s - loss: 4759073280.0000 - root_mean_squared_error: 68986.0391INFO:tensorflow:Assets written to: models\\simple_nn\\assets\n"
     ]
    },
    {
     "name": "stderr",
     "output_type": "stream",
     "text": [
      "INFO:tensorflow:Assets written to: models\\simple_nn\\assets\n"
     ]
    },
    {
     "name": "stdout",
     "output_type": "stream",
     "text": [
      "563/563 [==============================] - 3s 5ms/step - loss: 4761550848.0000 - root_mean_squared_error: 69003.9922 - val_loss: 2782185728.0000 - val_root_mean_squared_error: 52746.4297\n",
      "Epoch 39/100\n",
      "563/563 [==============================] - 2s 3ms/step - loss: 4759053824.0000 - root_mean_squared_error: 68985.8984 - val_loss: 2786546432.0000 - val_root_mean_squared_error: 52787.7500\n",
      "Epoch 40/100\n",
      "554/563 [============================>.] - ETA: 0s - loss: 4760546816.0000 - root_mean_squared_error: 68996.7188INFO:tensorflow:Assets written to: models\\simple_nn\\assets\n"
     ]
    },
    {
     "name": "stderr",
     "output_type": "stream",
     "text": [
      "INFO:tensorflow:Assets written to: models\\simple_nn\\assets\n"
     ]
    },
    {
     "name": "stdout",
     "output_type": "stream",
     "text": [
      "563/563 [==============================] - 3s 5ms/step - loss: 4756121600.0000 - root_mean_squared_error: 68964.6406 - val_loss: 2767520256.0000 - val_root_mean_squared_error: 52607.2266\n",
      "Epoch 41/100\n",
      "553/563 [============================>.] - ETA: 0s - loss: 4765531648.0000 - root_mean_squared_error: 69032.8281INFO:tensorflow:Assets written to: models\\simple_nn\\assets\n"
     ]
    },
    {
     "name": "stderr",
     "output_type": "stream",
     "text": [
      "INFO:tensorflow:Assets written to: models\\simple_nn\\assets\n"
     ]
    },
    {
     "name": "stdout",
     "output_type": "stream",
     "text": [
      "563/563 [==============================] - 3s 5ms/step - loss: 4754284032.0000 - root_mean_squared_error: 68951.3125 - val_loss: 2756187136.0000 - val_root_mean_squared_error: 52499.4023\n",
      "Epoch 42/100\n",
      "563/563 [==============================] - 2s 3ms/step - loss: 4749535232.0000 - root_mean_squared_error: 68916.8750 - val_loss: 2756619264.0000 - val_root_mean_squared_error: 52503.5156\n",
      "Epoch 43/100\n",
      "556/563 [============================>.] - ETA: 0s - loss: 4759477760.0000 - root_mean_squared_error: 68988.9688INFO:tensorflow:Assets written to: models\\simple_nn\\assets\n"
     ]
    },
    {
     "name": "stderr",
     "output_type": "stream",
     "text": [
      "INFO:tensorflow:Assets written to: models\\simple_nn\\assets\n"
     ]
    },
    {
     "name": "stdout",
     "output_type": "stream",
     "text": [
      "563/563 [==============================] - 3s 5ms/step - loss: 4744982528.0000 - root_mean_squared_error: 68883.8359 - val_loss: 2738884864.0000 - val_root_mean_squared_error: 52334.3555\n",
      "Epoch 44/100\n",
      "546/563 [============================>.] - ETA: 0s - loss: 4735607808.0000 - root_mean_squared_error: 68815.7500INFO:tensorflow:Assets written to: models\\simple_nn\\assets\n"
     ]
    },
    {
     "name": "stderr",
     "output_type": "stream",
     "text": [
      "INFO:tensorflow:Assets written to: models\\simple_nn\\assets\n"
     ]
    },
    {
     "name": "stdout",
     "output_type": "stream",
     "text": [
      "563/563 [==============================] - 3s 5ms/step - loss: 4735992320.0000 - root_mean_squared_error: 68818.5469 - val_loss: 2725049856.0000 - val_root_mean_squared_error: 52202.0117\n",
      "Epoch 45/100\n",
      "548/563 [============================>.] - ETA: 0s - loss: 4726967296.0000 - root_mean_squared_error: 68752.9453INFO:tensorflow:Assets written to: models\\simple_nn\\assets\n"
     ]
    },
    {
     "name": "stderr",
     "output_type": "stream",
     "text": [
      "INFO:tensorflow:Assets written to: models\\simple_nn\\assets\n"
     ]
    },
    {
     "name": "stdout",
     "output_type": "stream",
     "text": [
      "563/563 [==============================] - 3s 5ms/step - loss: 4728660480.0000 - root_mean_squared_error: 68765.2578 - val_loss: 2700953344.0000 - val_root_mean_squared_error: 51970.6953\n",
      "Epoch 46/100\n",
      "548/563 [============================>.] - ETA: 0s - loss: 4719459328.0000 - root_mean_squared_error: 68698.3203INFO:tensorflow:Assets written to: models\\simple_nn\\assets\n"
     ]
    },
    {
     "name": "stderr",
     "output_type": "stream",
     "text": [
      "INFO:tensorflow:Assets written to: models\\simple_nn\\assets\n"
     ]
    },
    {
     "name": "stdout",
     "output_type": "stream",
     "text": [
      "563/563 [==============================] - 3s 5ms/step - loss: 4721168896.0000 - root_mean_squared_error: 68710.7656 - val_loss: 2696082688.0000 - val_root_mean_squared_error: 51923.8164\n",
      "Epoch 47/100\n",
      "552/563 [============================>.] - ETA: 0s - loss: 4724131840.0000 - root_mean_squared_error: 68732.3203INFO:tensorflow:Assets written to: models\\simple_nn\\assets\n"
     ]
    },
    {
     "name": "stderr",
     "output_type": "stream",
     "text": [
      "INFO:tensorflow:Assets written to: models\\simple_nn\\assets\n"
     ]
    },
    {
     "name": "stdout",
     "output_type": "stream",
     "text": [
      "563/563 [==============================] - 3s 5ms/step - loss: 4709429760.0000 - root_mean_squared_error: 68625.2812 - val_loss: 2649817344.0000 - val_root_mean_squared_error: 51476.3750\n",
      "Epoch 48/100\n",
      "558/563 [============================>.] - ETA: 0s - loss: 4695703040.0000 - root_mean_squared_error: 68525.2031INFO:tensorflow:Assets written to: models\\simple_nn\\assets\n"
     ]
    },
    {
     "name": "stderr",
     "output_type": "stream",
     "text": [
      "INFO:tensorflow:Assets written to: models\\simple_nn\\assets\n"
     ]
    },
    {
     "name": "stdout",
     "output_type": "stream",
     "text": [
      "563/563 [==============================] - 3s 5ms/step - loss: 4699076608.0000 - root_mean_squared_error: 68549.8125 - val_loss: 2627723520.0000 - val_root_mean_squared_error: 51261.3242\n",
      "Epoch 49/100\n",
      "554/563 [============================>.] - ETA: 0s - loss: 4691026432.0000 - root_mean_squared_error: 68491.0703INFO:tensorflow:Assets written to: models\\simple_nn\\assets\n"
     ]
    },
    {
     "name": "stderr",
     "output_type": "stream",
     "text": [
      "INFO:tensorflow:Assets written to: models\\simple_nn\\assets\n"
     ]
    },
    {
     "name": "stdout",
     "output_type": "stream",
     "text": [
      "563/563 [==============================] - 3s 5ms/step - loss: 4686935040.0000 - root_mean_squared_error: 68461.1953 - val_loss: 2618822400.0000 - val_root_mean_squared_error: 51174.4297\n",
      "Epoch 50/100\n",
      "560/563 [============================>.] - ETA: 0s - loss: 4673993216.0000 - root_mean_squared_error: 68366.6094INFO:tensorflow:Assets written to: models\\simple_nn\\assets\n"
     ]
    },
    {
     "name": "stderr",
     "output_type": "stream",
     "text": [
      "INFO:tensorflow:Assets written to: models\\simple_nn\\assets\n"
     ]
    },
    {
     "name": "stdout",
     "output_type": "stream",
     "text": [
      "563/563 [==============================] - 3s 5ms/step - loss: 4675341824.0000 - root_mean_squared_error: 68376.4688 - val_loss: 2600706304.0000 - val_root_mean_squared_error: 50997.1211\n",
      "Epoch 51/100\n",
      "553/563 [============================>.] - ETA: 0s - loss: 4677165056.0000 - root_mean_squared_error: 68389.8047INFO:tensorflow:Assets written to: models\\simple_nn\\assets\n"
     ]
    },
    {
     "name": "stderr",
     "output_type": "stream",
     "text": [
      "INFO:tensorflow:Assets written to: models\\simple_nn\\assets\n"
     ]
    },
    {
     "name": "stdout",
     "output_type": "stream",
     "text": [
      "563/563 [==============================] - 3s 5ms/step - loss: 4662258688.0000 - root_mean_squared_error: 68280.7344 - val_loss: 2593865216.0000 - val_root_mean_squared_error: 50930.0039\n",
      "Epoch 52/100\n",
      "563/563 [==============================] - 2s 3ms/step - loss: 4653993472.0000 - root_mean_squared_error: 68220.1875 - val_loss: 2596158208.0000 - val_root_mean_squared_error: 50952.5078\n",
      "Epoch 53/100\n",
      "558/563 [============================>.] - ETA: 0s - loss: 4653337600.0000 - root_mean_squared_error: 68215.3750INFO:tensorflow:Assets written to: models\\simple_nn\\assets\n"
     ]
    },
    {
     "name": "stderr",
     "output_type": "stream",
     "text": [
      "INFO:tensorflow:Assets written to: models\\simple_nn\\assets\n"
     ]
    },
    {
     "name": "stdout",
     "output_type": "stream",
     "text": [
      "563/563 [==============================] - 3s 5ms/step - loss: 4644807680.0000 - root_mean_squared_error: 68152.8281 - val_loss: 2575072768.0000 - val_root_mean_squared_error: 50745.1758\n",
      "Epoch 54/100\n",
      "563/563 [==============================] - 2s 3ms/step - loss: 4635216384.0000 - root_mean_squared_error: 68082.4219 - val_loss: 2592093952.0000 - val_root_mean_squared_error: 50912.6094\n",
      "Epoch 55/100\n",
      "549/563 [============================>.] - ETA: 0s - loss: 4631556608.0000 - root_mean_squared_error: 68055.5391INFO:tensorflow:Assets written to: models\\simple_nn\\assets\n"
     ]
    },
    {
     "name": "stderr",
     "output_type": "stream",
     "text": [
      "INFO:tensorflow:Assets written to: models\\simple_nn\\assets\n"
     ]
    },
    {
     "name": "stdout",
     "output_type": "stream",
     "text": [
      "563/563 [==============================] - 3s 5ms/step - loss: 4630159360.0000 - root_mean_squared_error: 68045.2734 - val_loss: 2574511104.0000 - val_root_mean_squared_error: 50739.6406\n",
      "Epoch 56/100\n",
      "562/563 [============================>.] - ETA: 0s - loss: 4623596032.0000 - root_mean_squared_error: 67997.0312INFO:tensorflow:Assets written to: models\\simple_nn\\assets\n"
     ]
    },
    {
     "name": "stderr",
     "output_type": "stream",
     "text": [
      "INFO:tensorflow:Assets written to: models\\simple_nn\\assets\n"
     ]
    },
    {
     "name": "stdout",
     "output_type": "stream",
     "text": [
      "563/563 [==============================] - 3s 5ms/step - loss: 4620847104.0000 - root_mean_squared_error: 67976.8125 - val_loss: 2572712704.0000 - val_root_mean_squared_error: 50721.9141\n",
      "Epoch 57/100\n",
      "563/563 [==============================] - 2s 3ms/step - loss: 4614821888.0000 - root_mean_squared_error: 67932.4766 - val_loss: 2583894528.0000 - val_root_mean_squared_error: 50832.0234\n",
      "Epoch 58/100\n",
      "563/563 [==============================] - 2s 3ms/step - loss: 4607975424.0000 - root_mean_squared_error: 67882.0703 - val_loss: 2576565504.0000 - val_root_mean_squared_error: 50759.8789\n",
      "Epoch 59/100\n",
      "563/563 [==============================] - 2s 3ms/step - loss: 4601740288.0000 - root_mean_squared_error: 67836.1250 - val_loss: 2582912768.0000 - val_root_mean_squared_error: 50822.3633\n",
      "Epoch 60/100\n",
      "563/563 [==============================] - 2s 3ms/step - loss: 4595085824.0000 - root_mean_squared_error: 67787.0625 - val_loss: 2577396992.0000 - val_root_mean_squared_error: 50768.0703\n",
      "Epoch 61/100\n",
      "563/563 [==============================] - ETA: 0s - loss: 4589274112.0000 - root_mean_squared_error: 67744.1797INFO:tensorflow:Assets written to: models\\simple_nn\\assets\n"
     ]
    },
    {
     "name": "stderr",
     "output_type": "stream",
     "text": [
      "INFO:tensorflow:Assets written to: models\\simple_nn\\assets\n"
     ]
    },
    {
     "name": "stdout",
     "output_type": "stream",
     "text": [
      "563/563 [==============================] - 3s 5ms/step - loss: 4589274112.0000 - root_mean_squared_error: 67744.1797 - val_loss: 2566737408.0000 - val_root_mean_squared_error: 50662.9805\n",
      "Epoch 62/100\n",
      "559/563 [============================>.] - ETA: 0s - loss: 4579353088.0000 - root_mean_squared_error: 67670.9141INFO:tensorflow:Assets written to: models\\simple_nn\\assets\n"
     ]
    },
    {
     "name": "stderr",
     "output_type": "stream",
     "text": [
      "INFO:tensorflow:Assets written to: models\\simple_nn\\assets\n"
     ]
    },
    {
     "name": "stdout",
     "output_type": "stream",
     "text": [
      "563/563 [==============================] - 3s 5ms/step - loss: 4583478784.0000 - root_mean_squared_error: 67701.3906 - val_loss: 2564922880.0000 - val_root_mean_squared_error: 50645.0664\n",
      "Epoch 63/100\n",
      "555/563 [============================>.] - ETA: 0s - loss: 4572155392.0000 - root_mean_squared_error: 67617.7188INFO:tensorflow:Assets written to: models\\simple_nn\\assets\n"
     ]
    },
    {
     "name": "stderr",
     "output_type": "stream",
     "text": [
      "INFO:tensorflow:Assets written to: models\\simple_nn\\assets\n"
     ]
    },
    {
     "name": "stdout",
     "output_type": "stream",
     "text": [
      "563/563 [==============================] - 3s 5ms/step - loss: 4577868800.0000 - root_mean_squared_error: 67659.9531 - val_loss: 2549383424.0000 - val_root_mean_squared_error: 50491.4180\n",
      "Epoch 64/100\n",
      "563/563 [==============================] - 2s 3ms/step - loss: 4573203968.0000 - root_mean_squared_error: 67625.4688 - val_loss: 2566454016.0000 - val_root_mean_squared_error: 50660.1836\n",
      "Epoch 65/100\n",
      "554/563 [============================>.] - ETA: 0s - loss: 4578535424.0000 - root_mean_squared_error: 67664.8750INFO:tensorflow:Assets written to: models\\simple_nn\\assets\n"
     ]
    },
    {
     "name": "stderr",
     "output_type": "stream",
     "text": [
      "INFO:tensorflow:Assets written to: models\\simple_nn\\assets\n"
     ]
    },
    {
     "name": "stdout",
     "output_type": "stream",
     "text": [
      "563/563 [==============================] - 3s 5ms/step - loss: 4566897664.0000 - root_mean_squared_error: 67578.8281 - val_loss: 2544406784.0000 - val_root_mean_squared_error: 50442.1133\n",
      "Epoch 66/100\n",
      "563/563 [==============================] - 2s 3ms/step - loss: 4560718336.0000 - root_mean_squared_error: 67533.0938 - val_loss: 2580770560.0000 - val_root_mean_squared_error: 50801.2852\n",
      "Epoch 67/100\n",
      "563/563 [==============================] - 2s 3ms/step - loss: 4558379520.0000 - root_mean_squared_error: 67515.7734 - val_loss: 2548086272.0000 - val_root_mean_squared_error: 50478.5742\n",
      "Epoch 68/100\n",
      "563/563 [==============================] - 2s 3ms/step - loss: 4552264192.0000 - root_mean_squared_error: 67470.4688 - val_loss: 2550881536.0000 - val_root_mean_squared_error: 50506.2539\n",
      "Epoch 69/100\n",
      "563/563 [==============================] - 2s 3ms/step - loss: 4545098240.0000 - root_mean_squared_error: 67417.3438 - val_loss: 2571517184.0000 - val_root_mean_squared_error: 50710.1289\n",
      "Epoch 70/100\n",
      "563/563 [==============================] - 2s 3ms/step - loss: 4542974976.0000 - root_mean_squared_error: 67401.5938 - val_loss: 2547505408.0000 - val_root_mean_squared_error: 50472.8203\n",
      "Epoch 71/100\n",
      "550/563 [============================>.] - ETA: 0s - loss: 4499593216.0000 - root_mean_squared_error: 67079.0078INFO:tensorflow:Assets written to: models\\simple_nn\\assets\n"
     ]
    },
    {
     "name": "stderr",
     "output_type": "stream",
     "text": [
      "INFO:tensorflow:Assets written to: models\\simple_nn\\assets\n"
     ]
    },
    {
     "name": "stdout",
     "output_type": "stream",
     "text": [
      "563/563 [==============================] - 3s 5ms/step - loss: 4536054784.0000 - root_mean_squared_error: 67350.2422 - val_loss: 2528506880.0000 - val_root_mean_squared_error: 50284.2617\n",
      "Epoch 72/100\n",
      "563/563 [==============================] - 2s 3ms/step - loss: 4532861440.0000 - root_mean_squared_error: 67326.5312 - val_loss: 2530983424.0000 - val_root_mean_squared_error: 50308.8789\n",
      "Epoch 73/100\n",
      "563/563 [==============================] - 2s 3ms/step - loss: 4526533120.0000 - root_mean_squared_error: 67279.5156 - val_loss: 2549225984.0000 - val_root_mean_squared_error: 50489.8594\n",
      "Epoch 74/100\n",
      "563/563 [==============================] - 2s 3ms/step - loss: 4521343488.0000 - root_mean_squared_error: 67240.9375 - val_loss: 2544933632.0000 - val_root_mean_squared_error: 50447.3359\n",
      "Epoch 75/100\n",
      "563/563 [==============================] - 2s 3ms/step - loss: 4515384832.0000 - root_mean_squared_error: 67196.6094 - val_loss: 2536215552.0000 - val_root_mean_squared_error: 50360.8516\n",
      "Epoch 76/100\n",
      "563/563 [==============================] - 2s 3ms/step - loss: 4509004800.0000 - root_mean_squared_error: 67149.1250 - val_loss: 2541725440.0000 - val_root_mean_squared_error: 50415.5273\n",
      "Epoch 77/100\n",
      "559/563 [============================>.] - ETA: 0s - loss: 4503519744.0000 - root_mean_squared_error: 67108.2656INFO:tensorflow:Assets written to: models\\simple_nn\\assets\n"
     ]
    },
    {
     "name": "stderr",
     "output_type": "stream",
     "text": [
      "INFO:tensorflow:Assets written to: models\\simple_nn\\assets\n"
     ]
    },
    {
     "name": "stdout",
     "output_type": "stream",
     "text": [
      "563/563 [==============================] - 3s 5ms/step - loss: 4502611456.0000 - root_mean_squared_error: 67101.5000 - val_loss: 2525034496.0000 - val_root_mean_squared_error: 50249.7227\n",
      "Epoch 78/100\n",
      "563/563 [==============================] - 2s 3ms/step - loss: 4496651264.0000 - root_mean_squared_error: 67057.0781 - val_loss: 2531384832.0000 - val_root_mean_squared_error: 50312.8711\n",
      "Epoch 79/100\n",
      "546/563 [============================>.] - ETA: 0s - loss: 4486021632.0000 - root_mean_squared_error: 66977.7734INFO:tensorflow:Assets written to: models\\simple_nn\\assets\n"
     ]
    },
    {
     "name": "stderr",
     "output_type": "stream",
     "text": [
      "INFO:tensorflow:Assets written to: models\\simple_nn\\assets\n"
     ]
    },
    {
     "name": "stdout",
     "output_type": "stream",
     "text": [
      "563/563 [==============================] - 3s 5ms/step - loss: 4489594880.0000 - root_mean_squared_error: 67004.4375 - val_loss: 2517279488.0000 - val_root_mean_squared_error: 50172.4961\n",
      "Epoch 80/100\n",
      "552/563 [============================>.] - ETA: 0s - loss: 4478887424.0000 - root_mean_squared_error: 66924.4922INFO:tensorflow:Assets written to: models\\simple_nn\\assets\n"
     ]
    },
    {
     "name": "stderr",
     "output_type": "stream",
     "text": [
      "INFO:tensorflow:Assets written to: models\\simple_nn\\assets\n"
     ]
    },
    {
     "name": "stdout",
     "output_type": "stream",
     "text": [
      "563/563 [==============================] - 3s 5ms/step - loss: 4484090368.0000 - root_mean_squared_error: 66963.3516 - val_loss: 2514761216.0000 - val_root_mean_squared_error: 50147.3945\n",
      "Epoch 81/100\n",
      "547/563 [============================>.] - ETA: 0s - loss: 4483773440.0000 - root_mean_squared_error: 66960.9844INFO:tensorflow:Assets written to: models\\simple_nn\\assets\n"
     ]
    },
    {
     "name": "stderr",
     "output_type": "stream",
     "text": [
      "INFO:tensorflow:Assets written to: models\\simple_nn\\assets\n"
     ]
    },
    {
     "name": "stdout",
     "output_type": "stream",
     "text": [
      "563/563 [==============================] - 3s 5ms/step - loss: 4477010944.0000 - root_mean_squared_error: 66910.4688 - val_loss: 2507588864.0000 - val_root_mean_squared_error: 50075.8320\n",
      "Epoch 82/100\n",
      "563/563 [==============================] - 2s 3ms/step - loss: 4471565312.0000 - root_mean_squared_error: 66869.7656 - val_loss: 2523258368.0000 - val_root_mean_squared_error: 50232.0469\n",
      "Epoch 83/100\n",
      "563/563 [==============================] - 2s 3ms/step - loss: 4465942016.0000 - root_mean_squared_error: 66827.7031 - val_loss: 2513924608.0000 - val_root_mean_squared_error: 50139.0508\n",
      "Epoch 84/100\n",
      "558/563 [============================>.] - ETA: 0s - loss: 4465021440.0000 - root_mean_squared_error: 66820.8125INFO:tensorflow:Assets written to: models\\simple_nn\\assets\n"
     ]
    },
    {
     "name": "stderr",
     "output_type": "stream",
     "text": [
      "INFO:tensorflow:Assets written to: models\\simple_nn\\assets\n"
     ]
    },
    {
     "name": "stdout",
     "output_type": "stream",
     "text": [
      "563/563 [==============================] - 3s 5ms/step - loss: 4459873280.0000 - root_mean_squared_error: 66782.2812 - val_loss: 2493745664.0000 - val_root_mean_squared_error: 49937.4180\n",
      "Epoch 85/100\n",
      "563/563 [==============================] - 2s 3ms/step - loss: 4455290368.0000 - root_mean_squared_error: 66747.9609 - val_loss: 2530117376.0000 - val_root_mean_squared_error: 50300.2734\n",
      "Epoch 86/100\n",
      "563/563 [==============================] - 2s 3ms/step - loss: 4450773504.0000 - root_mean_squared_error: 66714.1172 - val_loss: 2504937472.0000 - val_root_mean_squared_error: 50049.3516\n",
      "Epoch 87/100\n",
      "563/563 [==============================] - 2s 3ms/step - loss: 4444164608.0000 - root_mean_squared_error: 66664.5703 - val_loss: 2508620288.0000 - val_root_mean_squared_error: 50086.1289\n",
      "Epoch 88/100\n",
      "563/563 [==============================] - 2s 3ms/step - loss: 4440251392.0000 - root_mean_squared_error: 66635.2109 - val_loss: 2511665920.0000 - val_root_mean_squared_error: 50116.5234\n",
      "Epoch 89/100\n",
      "563/563 [==============================] - 2s 3ms/step - loss: 4436523520.0000 - root_mean_squared_error: 66607.2344 - val_loss: 2505855232.0000 - val_root_mean_squared_error: 50058.5195\n",
      "Epoch 90/100\n",
      "563/563 [==============================] - 2s 3ms/step - loss: 4434026496.0000 - root_mean_squared_error: 66588.4844 - val_loss: 2507225344.0000 - val_root_mean_squared_error: 50072.2031\n",
      "Epoch 91/100\n",
      "563/563 [==============================] - 2s 3ms/step - loss: 4428695552.0000 - root_mean_squared_error: 66548.4453 - val_loss: 2504006656.0000 - val_root_mean_squared_error: 50040.0508\n",
      "Epoch 92/100\n",
      "561/563 [============================>.] - ETA: 0s - loss: 4428388352.0000 - root_mean_squared_error: 66546.1406INFO:tensorflow:Assets written to: models\\simple_nn\\assets\n"
     ]
    },
    {
     "name": "stderr",
     "output_type": "stream",
     "text": [
      "INFO:tensorflow:Assets written to: models\\simple_nn\\assets\n"
     ]
    },
    {
     "name": "stdout",
     "output_type": "stream",
     "text": [
      "563/563 [==============================] - 3s 5ms/step - loss: 4426060800.0000 - root_mean_squared_error: 66528.6484 - val_loss: 2480585984.0000 - val_root_mean_squared_error: 49805.4805\n",
      "Epoch 93/100\n",
      "563/563 [==============================] - 2s 3ms/step - loss: 4424215040.0000 - root_mean_squared_error: 66514.7734 - val_loss: 2489810432.0000 - val_root_mean_squared_error: 49898.0000\n",
      "Epoch 94/100\n",
      "563/563 [==============================] - 2s 3ms/step - loss: 4421356032.0000 - root_mean_squared_error: 66493.2812 - val_loss: 2483672064.0000 - val_root_mean_squared_error: 49836.4531\n",
      "Epoch 95/100\n",
      "563/563 [==============================] - 2s 3ms/step - loss: 4418255872.0000 - root_mean_squared_error: 66469.9609 - val_loss: 2494822400.0000 - val_root_mean_squared_error: 49948.1953\n",
      "Epoch 96/100\n",
      "556/563 [============================>.] - ETA: 0s - loss: 4415378432.0000 - root_mean_squared_error: 66448.3125INFO:tensorflow:Assets written to: models\\simple_nn\\assets\n"
     ]
    },
    {
     "name": "stderr",
     "output_type": "stream",
     "text": [
      "INFO:tensorflow:Assets written to: models\\simple_nn\\assets\n"
     ]
    },
    {
     "name": "stdout",
     "output_type": "stream",
     "text": [
      "563/563 [==============================] - 3s 5ms/step - loss: 4414709760.0000 - root_mean_squared_error: 66443.2812 - val_loss: 2465040128.0000 - val_root_mean_squared_error: 49649.1719\n",
      "Epoch 97/100\n",
      "563/563 [==============================] - 2s 3ms/step - loss: 4414664192.0000 - root_mean_squared_error: 66442.9375 - val_loss: 2500483328.0000 - val_root_mean_squared_error: 50004.8320\n",
      "Epoch 98/100\n",
      "563/563 [==============================] - 2s 3ms/step - loss: 4409741312.0000 - root_mean_squared_error: 66405.8828 - val_loss: 2480136960.0000 - val_root_mean_squared_error: 49800.9727\n",
      "Epoch 99/100\n",
      "563/563 [==============================] - 2s 3ms/step - loss: 4408752128.0000 - root_mean_squared_error: 66398.4375 - val_loss: 2492982784.0000 - val_root_mean_squared_error: 49929.7773\n",
      "Epoch 100/100\n",
      "563/563 [==============================] - 2s 3ms/step - loss: 4404961792.0000 - root_mean_squared_error: 66369.8828 - val_loss: 2468103936.0000 - val_root_mean_squared_error: 49680.0156\n"
     ]
    },
    {
     "data": {
      "text/plain": [
       "<keras.src.callbacks.History at 0x1ff049e3ac0>"
      ]
     },
     "execution_count": 24,
     "metadata": {},
     "output_type": "execute_result"
    }
   ],
   "source": [
    "from tensorflow.keras.models import Sequential\n",
    "from tensorflow.keras.layers import *\n",
    "from tensorflow.keras.callbacks import ModelCheckpoint\n",
    "from tensorflow.keras.metrics import RootMeanSquaredError\n",
    "from tensorflow.keras.optimizers import Adam\n",
    "\n",
    "simple_nn = Sequential()\n",
    "simple_nn.add(InputLayer((13,)))\n",
    "simple_nn.add(Dense(2, 'relu'))\n",
    "simple_nn.add(Dense(1, 'linear'))\n",
    "\n",
    "opt = Adam(learning_rate=.1)\n",
    "cp = ModelCheckpoint('models/simple_nn', save_best_only=True)\n",
    "simple_nn.compile(optimizer=opt, loss='mse', metrics=[RootMeanSquaredError()])\n",
    "simple_nn.fit(x=X_train, y=y_train, validation_data=(X_val, y_val), callbacks=[cp], epochs=100)"
   ]
  },
  {
   "cell_type": "code",
   "execution_count": 25,
   "id": "cc8ce1c1",
   "metadata": {},
   "outputs": [
    {
     "name": "stdout",
     "output_type": "stream",
     "text": [
      "WARNING:tensorflow:From C:\\Users\\rishb\\anaconda3\\lib\\site-packages\\keras\\src\\saving\\legacy\\saved_model\\load.py:107: The name tf.gfile.Exists is deprecated. Please use tf.io.gfile.exists instead.\n",
      "\n"
     ]
    },
    {
     "name": "stderr",
     "output_type": "stream",
     "text": [
      "WARNING:tensorflow:From C:\\Users\\rishb\\anaconda3\\lib\\site-packages\\keras\\src\\saving\\legacy\\saved_model\\load.py:107: The name tf.gfile.Exists is deprecated. Please use tf.io.gfile.exists instead.\n",
      "\n"
     ]
    },
    {
     "name": "stdout",
     "output_type": "stream",
     "text": [
      "563/563 [==============================] - 2s 2ms/step\n",
      "39/39 [==============================] - 0s 3ms/step\n"
     ]
    },
    {
     "data": {
      "text/plain": [
       "(66448.42188918877, 49649.17141118205)"
      ]
     },
     "execution_count": 25,
     "metadata": {},
     "output_type": "execute_result"
    }
   ],
   "source": [
    "from tensorflow.keras.models import load_model\n",
    "\n",
    "simple_nn = load_model('models/simple_nn')\n",
    "mse(simple_nn.predict(X_train), y_train, squared=False), mse(simple_nn.predict(X_val), y_val, squared=False)"
   ]
  },
  {
   "cell_type": "code",
   "execution_count": 26,
   "id": "a95cedcf",
   "metadata": {},
   "outputs": [
    {
     "name": "stdout",
     "output_type": "stream",
     "text": [
      "Epoch 1/100\n",
      "560/563 [============================>.] - ETA: 0s - loss: 8931159040.0000 - root_mean_squared_error: 94504.8125INFO:tensorflow:Assets written to: models\\medium_nn\\assets\n"
     ]
    },
    {
     "name": "stderr",
     "output_type": "stream",
     "text": [
      "INFO:tensorflow:Assets written to: models\\medium_nn\\assets\n"
     ]
    },
    {
     "name": "stdout",
     "output_type": "stream",
     "text": [
      "563/563 [==============================] - 5s 6ms/step - loss: 8910302208.0000 - root_mean_squared_error: 94394.3984 - val_loss: 2571515648.0000 - val_root_mean_squared_error: 50710.1133\n",
      "Epoch 2/100\n",
      "558/563 [============================>.] - ETA: 0s - loss: 4616466944.0000 - root_mean_squared_error: 67944.5859INFO:tensorflow:Assets written to: models\\medium_nn\\assets\n"
     ]
    },
    {
     "name": "stderr",
     "output_type": "stream",
     "text": [
      "INFO:tensorflow:Assets written to: models\\medium_nn\\assets\n"
     ]
    },
    {
     "name": "stdout",
     "output_type": "stream",
     "text": [
      "563/563 [==============================] - 3s 5ms/step - loss: 4611188224.0000 - root_mean_squared_error: 67905.7266 - val_loss: 2366723840.0000 - val_root_mean_squared_error: 48648.9844\n",
      "Epoch 3/100\n",
      "563/563 [==============================] - 2s 3ms/step - loss: 4503880704.0000 - root_mean_squared_error: 67110.9609 - val_loss: 2587452160.0000 - val_root_mean_squared_error: 50867.0039\n",
      "Epoch 4/100\n",
      "563/563 [==============================] - 2s 3ms/step - loss: 4446737920.0000 - root_mean_squared_error: 66683.8672 - val_loss: 2398584832.0000 - val_root_mean_squared_error: 48975.3477\n",
      "Epoch 5/100\n",
      "563/563 [==============================] - 2s 3ms/step - loss: 4380563456.0000 - root_mean_squared_error: 66185.8281 - val_loss: 2471195136.0000 - val_root_mean_squared_error: 49711.1172\n",
      "Epoch 6/100\n",
      "563/563 [==============================] - 2s 3ms/step - loss: 4349000704.0000 - root_mean_squared_error: 65946.9531 - val_loss: 2404686848.0000 - val_root_mean_squared_error: 49037.6055\n",
      "Epoch 7/100\n",
      "563/563 [==============================] - 2s 3ms/step - loss: 4306555904.0000 - root_mean_squared_error: 65624.3516 - val_loss: 2393788928.0000 - val_root_mean_squared_error: 48926.3633\n",
      "Epoch 8/100\n",
      "563/563 [==============================] - 2s 3ms/step - loss: 4264954368.0000 - root_mean_squared_error: 65306.6172 - val_loss: 2565574656.0000 - val_root_mean_squared_error: 50651.5039\n",
      "Epoch 9/100\n",
      "563/563 [==============================] - 2s 3ms/step - loss: 4243390464.0000 - root_mean_squared_error: 65141.3125 - val_loss: 2400674816.0000 - val_root_mean_squared_error: 48996.6836\n",
      "Epoch 10/100\n",
      "547/563 [============================>.] - ETA: 0s - loss: 4222171392.0000 - root_mean_squared_error: 64978.2383INFO:tensorflow:Assets written to: models\\medium_nn\\assets\n"
     ]
    },
    {
     "name": "stderr",
     "output_type": "stream",
     "text": [
      "INFO:tensorflow:Assets written to: models\\medium_nn\\assets\n"
     ]
    },
    {
     "name": "stdout",
     "output_type": "stream",
     "text": [
      "563/563 [==============================] - 3s 5ms/step - loss: 4211255040.0000 - root_mean_squared_error: 64894.1836 - val_loss: 2295264000.0000 - val_root_mean_squared_error: 47908.9141\n",
      "Epoch 11/100\n",
      "563/563 [==============================] - 2s 3ms/step - loss: 4227685632.0000 - root_mean_squared_error: 65020.6562 - val_loss: 2532087296.0000 - val_root_mean_squared_error: 50319.8516\n",
      "Epoch 12/100\n",
      "563/563 [==============================] - 2s 3ms/step - loss: 4171276800.0000 - root_mean_squared_error: 64585.4219 - val_loss: 2442874624.0000 - val_root_mean_squared_error: 49425.4453\n",
      "Epoch 13/100\n",
      "548/563 [============================>.] - ETA: 0s - loss: 4200727552.0000 - root_mean_squared_error: 64813.0195INFO:tensorflow:Assets written to: models\\medium_nn\\assets\n"
     ]
    },
    {
     "name": "stderr",
     "output_type": "stream",
     "text": [
      "INFO:tensorflow:Assets written to: models\\medium_nn\\assets\n"
     ]
    },
    {
     "name": "stdout",
     "output_type": "stream",
     "text": [
      "563/563 [==============================] - 3s 5ms/step - loss: 4191484416.0000 - root_mean_squared_error: 64741.6758 - val_loss: 2277832192.0000 - val_root_mean_squared_error: 47726.6406\n",
      "Epoch 14/100\n",
      "559/563 [============================>.] - ETA: 0s - loss: 4167895040.0000 - root_mean_squared_error: 64559.2383INFO:tensorflow:Assets written to: models\\medium_nn\\assets\n"
     ]
    },
    {
     "name": "stderr",
     "output_type": "stream",
     "text": [
      "INFO:tensorflow:Assets written to: models\\medium_nn\\assets\n"
     ]
    },
    {
     "name": "stdout",
     "output_type": "stream",
     "text": [
      "563/563 [==============================] - 3s 5ms/step - loss: 4162535936.0000 - root_mean_squared_error: 64517.7188 - val_loss: 2237662208.0000 - val_root_mean_squared_error: 47303.9336\n",
      "Epoch 15/100\n",
      "563/563 [==============================] - 2s 3ms/step - loss: 4168687616.0000 - root_mean_squared_error: 64565.3750 - val_loss: 2360628992.0000 - val_root_mean_squared_error: 48586.3047\n",
      "Epoch 16/100\n",
      "563/563 [==============================] - 2s 3ms/step - loss: 4148434176.0000 - root_mean_squared_error: 64408.3398 - val_loss: 2378576128.0000 - val_root_mean_squared_error: 48770.6484\n",
      "Epoch 17/100\n",
      "563/563 [==============================] - 2s 3ms/step - loss: 4144113920.0000 - root_mean_squared_error: 64374.7930 - val_loss: 2322045952.0000 - val_root_mean_squared_error: 48187.6133\n",
      "Epoch 18/100\n",
      "563/563 [==============================] - 2s 3ms/step - loss: 4126473216.0000 - root_mean_squared_error: 64237.6289 - val_loss: 2253645312.0000 - val_root_mean_squared_error: 47472.5742\n",
      "Epoch 19/100\n",
      "563/563 [==============================] - 2s 3ms/step - loss: 4126397184.0000 - root_mean_squared_error: 64237.0391 - val_loss: 2297336064.0000 - val_root_mean_squared_error: 47930.5352\n",
      "Epoch 20/100\n",
      "563/563 [==============================] - 2s 3ms/step - loss: 4158114048.0000 - root_mean_squared_error: 64483.4414 - val_loss: 2377359872.0000 - val_root_mean_squared_error: 48758.1758\n",
      "Epoch 21/100\n",
      "563/563 [==============================] - 2s 3ms/step - loss: 4055068928.0000 - root_mean_squared_error: 63679.4219 - val_loss: 2335895552.0000 - val_root_mean_squared_error: 48331.1016\n",
      "Epoch 22/100\n",
      "563/563 [==============================] - 2s 3ms/step - loss: 3923134720.0000 - root_mean_squared_error: 62634.9336 - val_loss: 2515728896.0000 - val_root_mean_squared_error: 50157.0430\n",
      "Epoch 23/100\n",
      "563/563 [==============================] - 2s 3ms/step - loss: 3867277056.0000 - root_mean_squared_error: 62187.4336 - val_loss: 2418510336.0000 - val_root_mean_squared_error: 49178.3516\n",
      "Epoch 24/100\n",
      "563/563 [==============================] - 2s 3ms/step - loss: 3793970944.0000 - root_mean_squared_error: 61595.2188 - val_loss: 2310485760.0000 - val_root_mean_squared_error: 48067.5117\n",
      "Epoch 25/100\n",
      "563/563 [==============================] - 2s 3ms/step - loss: 3744774144.0000 - root_mean_squared_error: 61194.5586 - val_loss: 2616303616.0000 - val_root_mean_squared_error: 51149.8164\n",
      "Epoch 26/100\n",
      "563/563 [==============================] - 2s 3ms/step - loss: 3650732544.0000 - root_mean_squared_error: 60421.2930 - val_loss: 2625052416.0000 - val_root_mean_squared_error: 51235.2656\n",
      "Epoch 27/100\n",
      "563/563 [==============================] - 2s 3ms/step - loss: 3609394688.0000 - root_mean_squared_error: 60078.2383 - val_loss: 2387120384.0000 - val_root_mean_squared_error: 48858.1641\n",
      "Epoch 28/100\n",
      "563/563 [==============================] - 2s 3ms/step - loss: 3512014336.0000 - root_mean_squared_error: 59262.2500 - val_loss: 2386122752.0000 - val_root_mean_squared_error: 48847.9570\n",
      "Epoch 29/100\n",
      "563/563 [==============================] - 2s 3ms/step - loss: 3484729344.0000 - root_mean_squared_error: 59031.5977 - val_loss: 2482813952.0000 - val_root_mean_squared_error: 49827.8438\n",
      "Epoch 30/100\n",
      "563/563 [==============================] - 2s 3ms/step - loss: 3437194496.0000 - root_mean_squared_error: 58627.5898 - val_loss: 2601822976.0000 - val_root_mean_squared_error: 51008.0664\n",
      "Epoch 31/100\n",
      "563/563 [==============================] - 2s 3ms/step - loss: 3400393216.0000 - root_mean_squared_error: 58312.8906 - val_loss: 2865782784.0000 - val_root_mean_squared_error: 53533.0078\n",
      "Epoch 32/100\n",
      "563/563 [==============================] - 2s 3ms/step - loss: 3355769088.0000 - root_mean_squared_error: 57929.0000 - val_loss: 2432338176.0000 - val_root_mean_squared_error: 49318.7422\n",
      "Epoch 33/100\n",
      "563/563 [==============================] - 2s 3ms/step - loss: 3322593024.0000 - root_mean_squared_error: 57641.9375 - val_loss: 2583646720.0000 - val_root_mean_squared_error: 50829.5859\n",
      "Epoch 34/100\n",
      "563/563 [==============================] - 2s 3ms/step - loss: 3311970560.0000 - root_mean_squared_error: 57549.7227 - val_loss: 2917108736.0000 - val_root_mean_squared_error: 54010.2656\n",
      "Epoch 35/100\n",
      "563/563 [==============================] - 2s 3ms/step - loss: 3291250176.0000 - root_mean_squared_error: 57369.4180 - val_loss: 2595633664.0000 - val_root_mean_squared_error: 50947.3633\n",
      "Epoch 36/100\n",
      "563/563 [==============================] - 2s 3ms/step - loss: 3268279808.0000 - root_mean_squared_error: 57168.8711 - val_loss: 2505299456.0000 - val_root_mean_squared_error: 50052.9648\n",
      "Epoch 37/100\n",
      "563/563 [==============================] - 2s 3ms/step - loss: 3253125888.0000 - root_mean_squared_error: 57036.1797 - val_loss: 2666961920.0000 - val_root_mean_squared_error: 51642.6367\n",
      "Epoch 38/100\n",
      "563/563 [==============================] - 2s 3ms/step - loss: 3243504384.0000 - root_mean_squared_error: 56951.7734 - val_loss: 2494133760.0000 - val_root_mean_squared_error: 49941.3047\n",
      "Epoch 39/100\n",
      "563/563 [==============================] - 2s 3ms/step - loss: 3233873920.0000 - root_mean_squared_error: 56867.1602 - val_loss: 2653563904.0000 - val_root_mean_squared_error: 51512.7539\n",
      "Epoch 40/100\n",
      "563/563 [==============================] - 2s 3ms/step - loss: 3187467264.0000 - root_mean_squared_error: 56457.6602 - val_loss: 2400900608.0000 - val_root_mean_squared_error: 48998.9844\n",
      "Epoch 41/100\n",
      "563/563 [==============================] - 2s 3ms/step - loss: 3190086144.0000 - root_mean_squared_error: 56480.8477 - val_loss: 2556322560.0000 - val_root_mean_squared_error: 50560.0898\n",
      "Epoch 42/100\n",
      "563/563 [==============================] - 2s 3ms/step - loss: 3178364928.0000 - root_mean_squared_error: 56376.9883 - val_loss: 2516047872.0000 - val_root_mean_squared_error: 50160.2227\n",
      "Epoch 43/100\n",
      "563/563 [==============================] - 2s 3ms/step - loss: 3187290112.0000 - root_mean_squared_error: 56456.0898 - val_loss: 2632355328.0000 - val_root_mean_squared_error: 51306.4844\n",
      "Epoch 44/100\n",
      "563/563 [==============================] - 2s 3ms/step - loss: 3139636992.0000 - root_mean_squared_error: 56032.4648 - val_loss: 2471832064.0000 - val_root_mean_squared_error: 49717.5234\n",
      "Epoch 45/100\n",
      "563/563 [==============================] - 2s 3ms/step - loss: 3143697920.0000 - root_mean_squared_error: 56068.6875 - val_loss: 2562403840.0000 - val_root_mean_squared_error: 50620.1914\n",
      "Epoch 46/100\n",
      "563/563 [==============================] - 2s 3ms/step - loss: 3123364096.0000 - root_mean_squared_error: 55887.0664 - val_loss: 2611977984.0000 - val_root_mean_squared_error: 51107.5156\n",
      "Epoch 47/100\n",
      "563/563 [==============================] - 2s 3ms/step - loss: 3106655744.0000 - root_mean_squared_error: 55737.3828 - val_loss: 2632715008.0000 - val_root_mean_squared_error: 51309.9883\n",
      "Epoch 48/100\n",
      "563/563 [==============================] - 2s 3ms/step - loss: 3091699456.0000 - root_mean_squared_error: 55603.0508 - val_loss: 2511542784.0000 - val_root_mean_squared_error: 50115.2930\n",
      "Epoch 49/100\n",
      "563/563 [==============================] - 2s 3ms/step - loss: 3052814080.0000 - root_mean_squared_error: 55252.2773 - val_loss: 2581567488.0000 - val_root_mean_squared_error: 50809.1289\n",
      "Epoch 50/100\n",
      "563/563 [==============================] - 2s 3ms/step - loss: 3083784704.0000 - root_mean_squared_error: 55531.8359 - val_loss: 2453864704.0000 - val_root_mean_squared_error: 49536.5000\n",
      "Epoch 51/100\n",
      "563/563 [==============================] - 2s 3ms/step - loss: 3034468864.0000 - root_mean_squared_error: 55086.0117 - val_loss: 2507282176.0000 - val_root_mean_squared_error: 50072.7695\n",
      "Epoch 52/100\n",
      "563/563 [==============================] - 2s 3ms/step - loss: 3010694400.0000 - root_mean_squared_error: 54869.7969 - val_loss: 2535134464.0000 - val_root_mean_squared_error: 50350.1172\n",
      "Epoch 53/100\n",
      "563/563 [==============================] - 2s 3ms/step - loss: 2989798400.0000 - root_mean_squared_error: 54679.0508 - val_loss: 2478323200.0000 - val_root_mean_squared_error: 49782.7617\n",
      "Epoch 54/100\n",
      "563/563 [==============================] - 2s 4ms/step - loss: 2982790656.0000 - root_mean_squared_error: 54614.9297 - val_loss: 2625705216.0000 - val_root_mean_squared_error: 51241.6367\n",
      "Epoch 55/100\n",
      "563/563 [==============================] - 2s 4ms/step - loss: 2967510784.0000 - root_mean_squared_error: 54474.8633 - val_loss: 2752559872.0000 - val_root_mean_squared_error: 52464.8438\n",
      "Epoch 56/100\n",
      "563/563 [==============================] - 2s 3ms/step - loss: 2954953472.0000 - root_mean_squared_error: 54359.4844 - val_loss: 2830806784.0000 - val_root_mean_squared_error: 53205.3281\n",
      "Epoch 57/100\n",
      "563/563 [==============================] - 2s 3ms/step - loss: 2959995904.0000 - root_mean_squared_error: 54405.8438 - val_loss: 3000652288.0000 - val_root_mean_squared_error: 54778.2109\n",
      "Epoch 58/100\n",
      "563/563 [==============================] - 2s 3ms/step - loss: 2929480448.0000 - root_mean_squared_error: 54124.6758 - val_loss: 2500948992.0000 - val_root_mean_squared_error: 50009.4883\n",
      "Epoch 59/100\n",
      "563/563 [==============================] - 2s 3ms/step - loss: 2953458944.0000 - root_mean_squared_error: 54345.7344 - val_loss: 2679913728.0000 - val_root_mean_squared_error: 51767.8828\n",
      "Epoch 60/100\n",
      "563/563 [==============================] - 2s 3ms/step - loss: 2923350784.0000 - root_mean_squared_error: 54068.0195 - val_loss: 3256066048.0000 - val_root_mean_squared_error: 57061.9492\n",
      "Epoch 61/100\n",
      "563/563 [==============================] - 2s 3ms/step - loss: 2889686016.0000 - root_mean_squared_error: 53755.8008 - val_loss: 2990891776.0000 - val_root_mean_squared_error: 54689.0469\n",
      "Epoch 62/100\n",
      "563/563 [==============================] - 2s 3ms/step - loss: 2923053568.0000 - root_mean_squared_error: 54065.2695 - val_loss: 2718832896.0000 - val_root_mean_squared_error: 52142.4297\n",
      "Epoch 63/100\n",
      "563/563 [==============================] - 2s 3ms/step - loss: 2913733120.0000 - root_mean_squared_error: 53979.0078 - val_loss: 2879199744.0000 - val_root_mean_squared_error: 53658.1758\n",
      "Epoch 64/100\n",
      "563/563 [==============================] - 2s 3ms/step - loss: 2884272128.0000 - root_mean_squared_error: 53705.4180 - val_loss: 3045153280.0000 - val_root_mean_squared_error: 55182.9062\n",
      "Epoch 65/100\n",
      "563/563 [==============================] - 2s 3ms/step - loss: 2902122240.0000 - root_mean_squared_error: 53871.3477 - val_loss: 2922833152.0000 - val_root_mean_squared_error: 54063.2344\n",
      "Epoch 66/100\n",
      "563/563 [==============================] - 2s 3ms/step - loss: 2868364032.0000 - root_mean_squared_error: 53557.1094 - val_loss: 3391048448.0000 - val_root_mean_squared_error: 58232.7109\n",
      "Epoch 67/100\n",
      "563/563 [==============================] - 2s 3ms/step - loss: 2858582784.0000 - root_mean_squared_error: 53465.7148 - val_loss: 3589376000.0000 - val_root_mean_squared_error: 59911.4023\n",
      "Epoch 68/100\n",
      "563/563 [==============================] - 2s 3ms/step - loss: 2875258880.0000 - root_mean_squared_error: 53621.4414 - val_loss: 2942454528.0000 - val_root_mean_squared_error: 54244.3945\n",
      "Epoch 69/100\n",
      "563/563 [==============================] - 2s 3ms/step - loss: 2861813760.0000 - root_mean_squared_error: 53495.9219 - val_loss: 2785864192.0000 - val_root_mean_squared_error: 52781.2852\n",
      "Epoch 70/100\n",
      "563/563 [==============================] - 2s 3ms/step - loss: 2862966784.0000 - root_mean_squared_error: 53506.6992 - val_loss: 3093041152.0000 - val_root_mean_squared_error: 55615.1172\n",
      "Epoch 71/100\n",
      "563/563 [==============================] - 2s 3ms/step - loss: 2854233856.0000 - root_mean_squared_error: 53425.0312 - val_loss: 3245048832.0000 - val_root_mean_squared_error: 56965.3320\n",
      "Epoch 72/100\n",
      "563/563 [==============================] - 2s 3ms/step - loss: 2859824128.0000 - root_mean_squared_error: 53477.3242 - val_loss: 3188325888.0000 - val_root_mean_squared_error: 56465.2617\n",
      "Epoch 73/100\n",
      "563/563 [==============================] - 2s 3ms/step - loss: 2846185984.0000 - root_mean_squared_error: 53349.6562 - val_loss: 2941531904.0000 - val_root_mean_squared_error: 54235.8906\n",
      "Epoch 74/100\n",
      "563/563 [==============================] - 2s 3ms/step - loss: 2850032128.0000 - root_mean_squared_error: 53385.6914 - val_loss: 3388493568.0000 - val_root_mean_squared_error: 58210.7695\n",
      "Epoch 75/100\n",
      "563/563 [==============================] - 2s 3ms/step - loss: 2838066432.0000 - root_mean_squared_error: 53273.5078 - val_loss: 3237608960.0000 - val_root_mean_squared_error: 56899.9922\n",
      "Epoch 76/100\n",
      "563/563 [==============================] - 2s 3ms/step - loss: 2833526016.0000 - root_mean_squared_error: 53230.8750 - val_loss: 3484352512.0000 - val_root_mean_squared_error: 59028.4023\n",
      "Epoch 77/100\n",
      "563/563 [==============================] - 2s 3ms/step - loss: 2822624256.0000 - root_mean_squared_error: 53128.3750 - val_loss: 2992421632.0000 - val_root_mean_squared_error: 54703.0312\n",
      "Epoch 78/100\n",
      "563/563 [==============================] - 2s 3ms/step - loss: 2842998784.0000 - root_mean_squared_error: 53319.7773 - val_loss: 3468557568.0000 - val_root_mean_squared_error: 58894.4609\n",
      "Epoch 79/100\n",
      "563/563 [==============================] - 2s 3ms/step - loss: 2817198848.0000 - root_mean_squared_error: 53077.2930 - val_loss: 2902422784.0000 - val_root_mean_squared_error: 53874.1367\n",
      "Epoch 80/100\n",
      "563/563 [==============================] - 2s 3ms/step - loss: 2800557056.0000 - root_mean_squared_error: 52920.2891 - val_loss: 3197833216.0000 - val_root_mean_squared_error: 56549.3867\n",
      "Epoch 81/100\n",
      "563/563 [==============================] - 2s 3ms/step - loss: 2797495552.0000 - root_mean_squared_error: 52891.3555 - val_loss: 3611935488.0000 - val_root_mean_squared_error: 60099.3789\n",
      "Epoch 82/100\n",
      "563/563 [==============================] - 2s 3ms/step - loss: 2805952256.0000 - root_mean_squared_error: 52971.2383 - val_loss: 3606983424.0000 - val_root_mean_squared_error: 60058.1680\n",
      "Epoch 83/100\n",
      "563/563 [==============================] - 2s 3ms/step - loss: 2791212032.0000 - root_mean_squared_error: 52831.9219 - val_loss: 3275493888.0000 - val_root_mean_squared_error: 57231.9297\n",
      "Epoch 84/100\n",
      "563/563 [==============================] - 2s 3ms/step - loss: 2769775104.0000 - root_mean_squared_error: 52628.6523 - val_loss: 3602939392.0000 - val_root_mean_squared_error: 60024.4883\n",
      "Epoch 85/100\n",
      "563/563 [==============================] - 2s 3ms/step - loss: 2785524736.0000 - root_mean_squared_error: 52778.0703 - val_loss: 3365198848.0000 - val_root_mean_squared_error: 58010.3320\n",
      "Epoch 86/100\n",
      "563/563 [==============================] - 2s 3ms/step - loss: 2789623296.0000 - root_mean_squared_error: 52816.8828 - val_loss: 3199864320.0000 - val_root_mean_squared_error: 56567.3438\n",
      "Epoch 87/100\n",
      "563/563 [==============================] - 2s 3ms/step - loss: 2769711360.0000 - root_mean_squared_error: 52628.0469 - val_loss: 3163386112.0000 - val_root_mean_squared_error: 56243.9883\n",
      "Epoch 88/100\n",
      "563/563 [==============================] - 2s 3ms/step - loss: 2797438720.0000 - root_mean_squared_error: 52890.8203 - val_loss: 3239934976.0000 - val_root_mean_squared_error: 56920.4258\n",
      "Epoch 89/100\n",
      "563/563 [==============================] - 2s 3ms/step - loss: 2795808768.0000 - root_mean_squared_error: 52875.4062 - val_loss: 3564142336.0000 - val_root_mean_squared_error: 59700.4375\n",
      "Epoch 90/100\n",
      "563/563 [==============================] - 2s 3ms/step - loss: 2767134208.0000 - root_mean_squared_error: 52603.5586 - val_loss: 3228179712.0000 - val_root_mean_squared_error: 56817.0742\n",
      "Epoch 91/100\n",
      "563/563 [==============================] - 2s 3ms/step - loss: 2749703168.0000 - root_mean_squared_error: 52437.6133 - val_loss: 3445468672.0000 - val_root_mean_squared_error: 58698.1133\n",
      "Epoch 92/100\n",
      "563/563 [==============================] - 2s 3ms/step - loss: 2759779328.0000 - root_mean_squared_error: 52533.6016 - val_loss: 3186841344.0000 - val_root_mean_squared_error: 56452.1172\n",
      "Epoch 93/100\n",
      "563/563 [==============================] - 2s 3ms/step - loss: 2763612416.0000 - root_mean_squared_error: 52570.0703 - val_loss: 3024396544.0000 - val_root_mean_squared_error: 54994.5156\n",
      "Epoch 94/100\n",
      "563/563 [==============================] - 2s 3ms/step - loss: 2760099840.0000 - root_mean_squared_error: 52536.6523 - val_loss: 3086359552.0000 - val_root_mean_squared_error: 55555.0156\n",
      "Epoch 95/100\n",
      "563/563 [==============================] - 2s 3ms/step - loss: 2740833536.0000 - root_mean_squared_error: 52352.9688 - val_loss: 3531973888.0000 - val_root_mean_squared_error: 59430.4141\n",
      "Epoch 96/100\n",
      "563/563 [==============================] - 2s 3ms/step - loss: 2745970432.0000 - root_mean_squared_error: 52402.0078 - val_loss: 3335691520.0000 - val_root_mean_squared_error: 57755.4453\n",
      "Epoch 97/100\n",
      "563/563 [==============================] - 2s 3ms/step - loss: 2747209216.0000 - root_mean_squared_error: 52413.8281 - val_loss: 3241617408.0000 - val_root_mean_squared_error: 56935.2031\n",
      "Epoch 98/100\n",
      "563/563 [==============================] - 2s 3ms/step - loss: 2744957952.0000 - root_mean_squared_error: 52392.3477 - val_loss: 3341709056.0000 - val_root_mean_squared_error: 57807.5156\n",
      "Epoch 99/100\n",
      "563/563 [==============================] - 2s 3ms/step - loss: 2738244352.0000 - root_mean_squared_error: 52328.2383 - val_loss: 3512937216.0000 - val_root_mean_squared_error: 59270.0352\n",
      "Epoch 100/100\n",
      "563/563 [==============================] - 2s 3ms/step - loss: 2741082880.0000 - root_mean_squared_error: 52355.3516 - val_loss: 3110711040.0000 - val_root_mean_squared_error: 55773.7500\n"
     ]
    },
    {
     "data": {
      "text/plain": [
       "<keras.src.callbacks.History at 0x1ff0a0deb30>"
      ]
     },
     "execution_count": 26,
     "metadata": {},
     "output_type": "execute_result"
    }
   ],
   "source": [
    "medium_nn = Sequential()\n",
    "medium_nn.add(InputLayer((13,)))\n",
    "medium_nn.add(Dense(32, 'relu'))\n",
    "medium_nn.add(Dense(16, 'relu'))\n",
    "medium_nn.add(Dense(1, 'linear'))\n",
    "\n",
    "opt = Adam(learning_rate=.1)\n",
    "cp = ModelCheckpoint('models/medium_nn', save_best_only=True)\n",
    "medium_nn.compile(optimizer=opt, loss='mse', metrics=[RootMeanSquaredError()])\n",
    "medium_nn.fit(x=X_train, y=y_train, validation_data=(X_val, y_val), callbacks=[cp], epochs=100)"
   ]
  },
  {
   "cell_type": "code",
   "execution_count": 27,
   "id": "cd46c84f",
   "metadata": {},
   "outputs": [
    {
     "name": "stdout",
     "output_type": "stream",
     "text": [
      "563/563 [==============================] - 2s 3ms/step\n",
      "39/39 [==============================] - 0s 3ms/step\n"
     ]
    },
    {
     "data": {
      "text/plain": [
       "(63798.66659180252, 47303.93559837605)"
      ]
     },
     "execution_count": 27,
     "metadata": {},
     "output_type": "execute_result"
    }
   ],
   "source": [
    "medium_nn = load_model('models/medium_nn')\n",
    "mse(medium_nn.predict(X_train), y_train, squared=False), mse(medium_nn.predict(X_val), y_val, squared=False)"
   ]
  },
  {
   "cell_type": "code",
   "execution_count": 28,
   "id": "81f562d2",
   "metadata": {},
   "outputs": [
    {
     "name": "stdout",
     "output_type": "stream",
     "text": [
      "Epoch 1/100\n",
      "554/563 [============================>.] - ETA: 0s - loss: 6372177408.0000 - root_mean_squared_error: 79825.9219INFO:tensorflow:Assets written to: models\\large_nn\\assets\n"
     ]
    },
    {
     "name": "stderr",
     "output_type": "stream",
     "text": [
      "INFO:tensorflow:Assets written to: models\\large_nn\\assets\n"
     ]
    },
    {
     "name": "stdout",
     "output_type": "stream",
     "text": [
      "563/563 [==============================] - 6s 7ms/step - loss: 6347209728.0000 - root_mean_squared_error: 79669.3750 - val_loss: 2468908288.0000 - val_root_mean_squared_error: 49688.1094\n",
      "Epoch 2/100\n",
      "554/563 [============================>.] - ETA: 0s - loss: 4506287104.0000 - root_mean_squared_error: 67128.8828INFO:tensorflow:Assets written to: models\\large_nn\\assets\n"
     ]
    },
    {
     "name": "stderr",
     "output_type": "stream",
     "text": [
      "INFO:tensorflow:Assets written to: models\\large_nn\\assets\n"
     ]
    },
    {
     "name": "stdout",
     "output_type": "stream",
     "text": [
      "563/563 [==============================] - 4s 7ms/step - loss: 4499207680.0000 - root_mean_squared_error: 67076.1328 - val_loss: 2371379968.0000 - val_root_mean_squared_error: 48696.8164\n",
      "Epoch 3/100\n",
      "563/563 [==============================] - 2s 4ms/step - loss: 4035642368.0000 - root_mean_squared_error: 63526.7070 - val_loss: 2487474176.0000 - val_root_mean_squared_error: 49874.5859\n",
      "Epoch 4/100\n",
      "563/563 [==============================] - 2s 4ms/step - loss: 3983261184.0000 - root_mean_squared_error: 63113.0820 - val_loss: 2692073216.0000 - val_root_mean_squared_error: 51885.1914\n",
      "Epoch 5/100\n",
      "563/563 [==============================] - 2s 4ms/step - loss: 3959636992.0000 - root_mean_squared_error: 62925.6484 - val_loss: 3182839808.0000 - val_root_mean_squared_error: 56416.6641\n",
      "Epoch 6/100\n",
      "563/563 [==============================] - 2s 4ms/step - loss: 3620600064.0000 - root_mean_squared_error: 60171.4219 - val_loss: 4323426304.0000 - val_root_mean_squared_error: 65752.7656\n",
      "Epoch 7/100\n",
      "561/563 [============================>.] - ETA: 0s - loss: 3673782016.0000 - root_mean_squared_error: 60611.7305INFO:tensorflow:Assets written to: models\\large_nn\\assets\n"
     ]
    },
    {
     "name": "stderr",
     "output_type": "stream",
     "text": [
      "INFO:tensorflow:Assets written to: models\\large_nn\\assets\n"
     ]
    },
    {
     "name": "stdout",
     "output_type": "stream",
     "text": [
      "563/563 [==============================] - 4s 7ms/step - loss: 3672416256.0000 - root_mean_squared_error: 60600.4648 - val_loss: 2140777216.0000 - val_root_mean_squared_error: 46268.5352\n",
      "Epoch 8/100\n",
      "563/563 [==============================] - 2s 4ms/step - loss: 3350896896.0000 - root_mean_squared_error: 57886.9336 - val_loss: 2315876608.0000 - val_root_mean_squared_error: 48123.5547\n",
      "Epoch 9/100\n",
      "563/563 [==============================] - 2s 4ms/step - loss: 3291617024.0000 - root_mean_squared_error: 57372.6172 - val_loss: 2240240640.0000 - val_root_mean_squared_error: 47331.1797\n",
      "Epoch 10/100\n",
      "563/563 [==============================] - 2s 4ms/step - loss: 3289062912.0000 - root_mean_squared_error: 57350.3516 - val_loss: 2288216064.0000 - val_root_mean_squared_error: 47835.3008\n",
      "Epoch 11/100\n",
      "563/563 [==============================] - 2s 4ms/step - loss: 3223375360.0000 - root_mean_squared_error: 56774.7773 - val_loss: 2538647040.0000 - val_root_mean_squared_error: 50384.9883\n",
      "Epoch 12/100\n",
      "563/563 [==============================] - 2s 4ms/step - loss: 3095306496.0000 - root_mean_squared_error: 55635.4805 - val_loss: 2588871168.0000 - val_root_mean_squared_error: 50880.9492\n",
      "Epoch 13/100\n",
      "563/563 [==============================] - 2s 4ms/step - loss: 3117000704.0000 - root_mean_squared_error: 55830.1055 - val_loss: 2395960576.0000 - val_root_mean_squared_error: 48948.5508\n",
      "Epoch 14/100\n",
      "563/563 [==============================] - 2s 4ms/step - loss: 3018436352.0000 - root_mean_squared_error: 54940.2969 - val_loss: 2235865088.0000 - val_root_mean_squared_error: 47284.9336\n",
      "Epoch 15/100\n",
      "563/563 [==============================] - 2s 4ms/step - loss: 3079519488.0000 - root_mean_squared_error: 55493.4180 - val_loss: 2437746688.0000 - val_root_mean_squared_error: 49373.5430\n",
      "Epoch 16/100\n",
      "563/563 [==============================] - 2s 4ms/step - loss: 3018171904.0000 - root_mean_squared_error: 54937.8906 - val_loss: 2440919040.0000 - val_root_mean_squared_error: 49405.6562\n",
      "Epoch 17/100\n",
      "563/563 [==============================] - 2s 4ms/step - loss: 2992312832.0000 - root_mean_squared_error: 54702.0352 - val_loss: 2623888640.0000 - val_root_mean_squared_error: 51223.9062\n",
      "Epoch 18/100\n",
      "563/563 [==============================] - 2s 4ms/step - loss: 3017019648.0000 - root_mean_squared_error: 54927.4023 - val_loss: 2366475264.0000 - val_root_mean_squared_error: 48646.4297\n",
      "Epoch 19/100\n",
      "563/563 [==============================] - 2s 4ms/step - loss: 2970679296.0000 - root_mean_squared_error: 54503.9375 - val_loss: 4688260096.0000 - val_root_mean_squared_error: 68470.8672\n",
      "Epoch 20/100\n",
      "563/563 [==============================] - 2s 4ms/step - loss: 2980836864.0000 - root_mean_squared_error: 54597.0391 - val_loss: 2379756032.0000 - val_root_mean_squared_error: 48782.7422\n",
      "Epoch 21/100\n",
      "563/563 [==============================] - 2s 4ms/step - loss: 2935019008.0000 - root_mean_squared_error: 54175.8164 - val_loss: 2764527616.0000 - val_root_mean_squared_error: 52578.7734\n",
      "Epoch 22/100\n",
      "563/563 [==============================] - 2s 4ms/step - loss: 2812870656.0000 - root_mean_squared_error: 53036.5039 - val_loss: 2347481856.0000 - val_root_mean_squared_error: 48450.8203\n",
      "Epoch 23/100\n",
      "563/563 [==============================] - 2s 4ms/step - loss: 2825795328.0000 - root_mean_squared_error: 53158.2109 - val_loss: 2843376128.0000 - val_root_mean_squared_error: 53323.3164\n",
      "Epoch 24/100\n",
      "563/563 [==============================] - 2s 4ms/step - loss: 2887986944.0000 - root_mean_squared_error: 53739.9922 - val_loss: 2388767744.0000 - val_root_mean_squared_error: 48875.0234\n",
      "Epoch 25/100\n",
      "563/563 [==============================] - 2s 4ms/step - loss: 2835742464.0000 - root_mean_squared_error: 53251.6914 - val_loss: 3872775936.0000 - val_root_mean_squared_error: 62231.6328\n",
      "Epoch 26/100\n",
      "563/563 [==============================] - 2s 4ms/step - loss: 2789884416.0000 - root_mean_squared_error: 52819.3555 - val_loss: 3101116928.0000 - val_root_mean_squared_error: 55687.6719\n",
      "Epoch 27/100\n",
      "563/563 [==============================] - 2s 4ms/step - loss: 2784001536.0000 - root_mean_squared_error: 52763.6367 - val_loss: 3324528896.0000 - val_root_mean_squared_error: 57658.7266\n",
      "Epoch 28/100\n",
      "563/563 [==============================] - 2s 4ms/step - loss: 2707771392.0000 - root_mean_squared_error: 52036.2500 - val_loss: 3589441792.0000 - val_root_mean_squared_error: 59911.9492\n",
      "Epoch 29/100\n",
      "563/563 [==============================] - 2s 4ms/step - loss: 2731520256.0000 - root_mean_squared_error: 52263.9492 - val_loss: 4297698304.0000 - val_root_mean_squared_error: 65556.8359\n",
      "Epoch 30/100\n",
      "563/563 [==============================] - 2s 4ms/step - loss: 2756255232.0000 - root_mean_squared_error: 52500.0508 - val_loss: 3296737024.0000 - val_root_mean_squared_error: 57417.2188\n",
      "Epoch 31/100\n",
      "563/563 [==============================] - 2s 4ms/step - loss: 2732179968.0000 - root_mean_squared_error: 52270.2578 - val_loss: 3678508288.0000 - val_root_mean_squared_error: 60650.7070\n",
      "Epoch 32/100\n",
      "563/563 [==============================] - 2s 4ms/step - loss: 2706091008.0000 - root_mean_squared_error: 52020.1016 - val_loss: 3059111680.0000 - val_root_mean_squared_error: 55309.2383\n",
      "Epoch 33/100\n",
      "563/563 [==============================] - 2s 4ms/step - loss: 2663638528.0000 - root_mean_squared_error: 51610.4492 - val_loss: 4036637952.0000 - val_root_mean_squared_error: 63534.5430\n",
      "Epoch 34/100\n",
      "563/563 [==============================] - 2s 4ms/step - loss: 2678947840.0000 - root_mean_squared_error: 51758.5547 - val_loss: 2798590720.0000 - val_root_mean_squared_error: 52901.7070\n",
      "Epoch 35/100\n",
      "563/563 [==============================] - 2s 4ms/step - loss: 2639115520.0000 - root_mean_squared_error: 51372.3242 - val_loss: 3369257472.0000 - val_root_mean_squared_error: 58045.3047\n",
      "Epoch 36/100\n",
      "563/563 [==============================] - 2s 4ms/step - loss: 2611065856.0000 - root_mean_squared_error: 51098.5898 - val_loss: 3811528960.0000 - val_root_mean_squared_error: 61737.5820\n",
      "Epoch 37/100\n",
      "563/563 [==============================] - 2s 4ms/step - loss: 2622576128.0000 - root_mean_squared_error: 51211.0938 - val_loss: 4015749376.0000 - val_root_mean_squared_error: 63369.9414\n",
      "Epoch 38/100\n",
      "563/563 [==============================] - 2s 4ms/step - loss: 2561857536.0000 - root_mean_squared_error: 50614.7969 - val_loss: 3393037312.0000 - val_root_mean_squared_error: 58249.7852\n",
      "Epoch 39/100\n",
      "563/563 [==============================] - 2s 4ms/step - loss: 2599672320.0000 - root_mean_squared_error: 50986.9805 - val_loss: 2842680576.0000 - val_root_mean_squared_error: 53316.7930\n",
      "Epoch 40/100\n",
      "563/563 [==============================] - 2s 4ms/step - loss: 2569193984.0000 - root_mean_squared_error: 50687.2188 - val_loss: 3246951168.0000 - val_root_mean_squared_error: 56982.0234\n",
      "Epoch 41/100\n",
      "563/563 [==============================] - 2s 4ms/step - loss: 2578210048.0000 - root_mean_squared_error: 50776.0781 - val_loss: 4164084736.0000 - val_root_mean_squared_error: 64529.7188\n",
      "Epoch 42/100\n",
      "563/563 [==============================] - 2s 4ms/step - loss: 2558124544.0000 - root_mean_squared_error: 50577.9062 - val_loss: 4000532736.0000 - val_root_mean_squared_error: 63249.7656\n",
      "Epoch 43/100\n",
      "563/563 [==============================] - 2s 4ms/step - loss: 2608928512.0000 - root_mean_squared_error: 51077.6719 - val_loss: 3772931072.0000 - val_root_mean_squared_error: 61424.1914\n",
      "Epoch 44/100\n",
      "563/563 [==============================] - 2s 4ms/step - loss: 2521351680.0000 - root_mean_squared_error: 50213.0625 - val_loss: 3560867840.0000 - val_root_mean_squared_error: 59673.0078\n",
      "Epoch 45/100\n",
      "563/563 [==============================] - 2s 4ms/step - loss: 2531097344.0000 - root_mean_squared_error: 50310.0117 - val_loss: 3102010368.0000 - val_root_mean_squared_error: 55695.6953\n",
      "Epoch 46/100\n",
      "563/563 [==============================] - 2s 4ms/step - loss: 2494025728.0000 - root_mean_squared_error: 49940.2227 - val_loss: 3634424320.0000 - val_root_mean_squared_error: 60286.1875\n",
      "Epoch 47/100\n",
      "563/563 [==============================] - 2s 4ms/step - loss: 2493383424.0000 - root_mean_squared_error: 49933.7891 - val_loss: 3074961920.0000 - val_root_mean_squared_error: 55452.3398\n",
      "Epoch 48/100\n",
      "563/563 [==============================] - 2s 4ms/step - loss: 2514682880.0000 - root_mean_squared_error: 50146.6133 - val_loss: 3390460416.0000 - val_root_mean_squared_error: 58227.6602\n",
      "Epoch 49/100\n",
      "563/563 [==============================] - 2s 4ms/step - loss: 2495908608.0000 - root_mean_squared_error: 49959.0703 - val_loss: 3853324288.0000 - val_root_mean_squared_error: 62075.1484\n",
      "Epoch 50/100\n",
      "563/563 [==============================] - 2s 4ms/step - loss: 2475749888.0000 - root_mean_squared_error: 49756.9062 - val_loss: 3030625024.0000 - val_root_mean_squared_error: 55051.1133\n",
      "Epoch 51/100\n",
      "563/563 [==============================] - 2s 4ms/step - loss: 2483808256.0000 - root_mean_squared_error: 49837.8203 - val_loss: 3095033344.0000 - val_root_mean_squared_error: 55633.0234\n",
      "Epoch 52/100\n",
      "563/563 [==============================] - 2s 4ms/step - loss: 2463617280.0000 - root_mean_squared_error: 49634.8398 - val_loss: 3107619072.0000 - val_root_mean_squared_error: 55746.0234\n",
      "Epoch 53/100\n",
      "563/563 [==============================] - 3s 5ms/step - loss: 2466374912.0000 - root_mean_squared_error: 49662.6094 - val_loss: 3278380032.0000 - val_root_mean_squared_error: 57257.1406\n",
      "Epoch 54/100\n",
      "563/563 [==============================] - 2s 4ms/step - loss: 2446115072.0000 - root_mean_squared_error: 49458.2148 - val_loss: 2859626496.0000 - val_root_mean_squared_error: 53475.4766\n",
      "Epoch 55/100\n",
      "563/563 [==============================] - 2s 4ms/step - loss: 2489018880.0000 - root_mean_squared_error: 49890.0664 - val_loss: 2741723392.0000 - val_root_mean_squared_error: 52361.4688\n",
      "Epoch 56/100\n",
      "563/563 [==============================] - 342s 609ms/step - loss: 2394571776.0000 - root_mean_squared_error: 48934.3633 - val_loss: 3874608896.0000 - val_root_mean_squared_error: 62246.3555\n",
      "Epoch 57/100\n",
      "563/563 [==============================] - 2s 3ms/step - loss: 2426190848.0000 - root_mean_squared_error: 49256.3789 - val_loss: 4278810368.0000 - val_root_mean_squared_error: 65412.6172\n",
      "Epoch 58/100\n",
      "563/563 [==============================] - 1s 2ms/step - loss: 2390827264.0000 - root_mean_squared_error: 48896.0859 - val_loss: 3161823744.0000 - val_root_mean_squared_error: 56230.0977\n",
      "Epoch 59/100\n",
      "563/563 [==============================] - 2s 4ms/step - loss: 2436568320.0000 - root_mean_squared_error: 49361.6094 - val_loss: 3039654656.0000 - val_root_mean_squared_error: 55133.0625\n",
      "Epoch 60/100\n",
      "563/563 [==============================] - 2s 4ms/step - loss: 2435891200.0000 - root_mean_squared_error: 49354.7500 - val_loss: 3064428800.0000 - val_root_mean_squared_error: 55357.2812\n",
      "Epoch 61/100\n",
      "563/563 [==============================] - 2s 4ms/step - loss: 2368656640.0000 - root_mean_squared_error: 48668.8477 - val_loss: 3951414016.0000 - val_root_mean_squared_error: 62860.2734\n",
      "Epoch 62/100\n",
      "563/563 [==============================] - 2s 4ms/step - loss: 2396237824.0000 - root_mean_squared_error: 48951.3828 - val_loss: 3648865536.0000 - val_root_mean_squared_error: 60405.8398\n",
      "Epoch 63/100\n",
      "563/563 [==============================] - 2s 4ms/step - loss: 2387020032.0000 - root_mean_squared_error: 48857.1406 - val_loss: 3456936960.0000 - val_root_mean_squared_error: 58795.7227\n",
      "Epoch 64/100\n",
      "563/563 [==============================] - 2s 4ms/step - loss: 2392178944.0000 - root_mean_squared_error: 48909.9062 - val_loss: 3540647680.0000 - val_root_mean_squared_error: 59503.3398\n",
      "Epoch 65/100\n",
      "563/563 [==============================] - 2s 4ms/step - loss: 2360077824.0000 - root_mean_squared_error: 48580.6328 - val_loss: 3274808576.0000 - val_root_mean_squared_error: 57225.9414\n",
      "Epoch 66/100\n",
      "563/563 [==============================] - 2s 4ms/step - loss: 2343286272.0000 - root_mean_squared_error: 48407.5039 - val_loss: 3577488896.0000 - val_root_mean_squared_error: 59812.1133\n",
      "Epoch 67/100\n",
      "563/563 [==============================] - 2s 4ms/step - loss: 2349603840.0000 - root_mean_squared_error: 48472.7109 - val_loss: 3198311424.0000 - val_root_mean_squared_error: 56553.6172\n",
      "Epoch 68/100\n",
      "563/563 [==============================] - 2s 4ms/step - loss: 2372993536.0000 - root_mean_squared_error: 48713.3828 - val_loss: 3249543168.0000 - val_root_mean_squared_error: 57004.7656\n",
      "Epoch 69/100\n",
      "563/563 [==============================] - 2s 4ms/step - loss: 2308898304.0000 - root_mean_squared_error: 48050.9961 - val_loss: 3060730880.0000 - val_root_mean_squared_error: 55323.8711\n",
      "Epoch 70/100\n",
      "563/563 [==============================] - 2s 4ms/step - loss: 2308617984.0000 - root_mean_squared_error: 48048.0781 - val_loss: 3108936448.0000 - val_root_mean_squared_error: 55757.8359\n",
      "Epoch 71/100\n",
      "563/563 [==============================] - 2s 4ms/step - loss: 2345351168.0000 - root_mean_squared_error: 48428.8242 - val_loss: 4351395840.0000 - val_root_mean_squared_error: 65965.1094\n",
      "Epoch 72/100\n",
      "563/563 [==============================] - 2s 4ms/step - loss: 2315975936.0000 - root_mean_squared_error: 48124.5859 - val_loss: 3604988160.0000 - val_root_mean_squared_error: 60041.5547\n",
      "Epoch 73/100\n",
      "563/563 [==============================] - 2s 4ms/step - loss: 2364180224.0000 - root_mean_squared_error: 48622.8359 - val_loss: 3150036736.0000 - val_root_mean_squared_error: 56125.1875\n",
      "Epoch 74/100\n",
      "563/563 [==============================] - 2s 4ms/step - loss: 2323733504.0000 - root_mean_squared_error: 48205.1172 - val_loss: 2992735232.0000 - val_root_mean_squared_error: 54705.8984\n",
      "Epoch 75/100\n",
      "563/563 [==============================] - 2s 4ms/step - loss: 2279486464.0000 - root_mean_squared_error: 47743.9688 - val_loss: 3086823936.0000 - val_root_mean_squared_error: 55559.1914\n",
      "Epoch 76/100\n",
      "563/563 [==============================] - 2s 4ms/step - loss: 2339091456.0000 - root_mean_squared_error: 48364.1562 - val_loss: 3218434560.0000 - val_root_mean_squared_error: 56731.2500\n",
      "Epoch 77/100\n",
      "563/563 [==============================] - 2s 4ms/step - loss: 2311724032.0000 - root_mean_squared_error: 48080.3906 - val_loss: 3621571072.0000 - val_root_mean_squared_error: 60179.4922\n",
      "Epoch 78/100\n",
      "563/563 [==============================] - 2s 4ms/step - loss: 2296496896.0000 - root_mean_squared_error: 47921.7773 - val_loss: 2994290176.0000 - val_root_mean_squared_error: 54720.1094\n",
      "Epoch 79/100\n",
      "563/563 [==============================] - 2s 4ms/step - loss: 2263095552.0000 - root_mean_squared_error: 47572.0039 - val_loss: 2812518400.0000 - val_root_mean_squared_error: 53033.1836\n",
      "Epoch 80/100\n",
      "563/563 [==============================] - 2s 4ms/step - loss: 2298759424.0000 - root_mean_squared_error: 47945.3789 - val_loss: 3750205696.0000 - val_root_mean_squared_error: 61238.9219\n",
      "Epoch 81/100\n",
      "563/563 [==============================] - 2s 4ms/step - loss: 2301094656.0000 - root_mean_squared_error: 47969.7266 - val_loss: 3161426688.0000 - val_root_mean_squared_error: 56226.5664\n",
      "Epoch 82/100\n",
      "563/563 [==============================] - 2s 4ms/step - loss: 2301818880.0000 - root_mean_squared_error: 47977.2734 - val_loss: 3758752000.0000 - val_root_mean_squared_error: 61308.6602\n",
      "Epoch 83/100\n",
      "563/563 [==============================] - 2s 4ms/step - loss: 2290833152.0000 - root_mean_squared_error: 47862.6484 - val_loss: 3071489536.0000 - val_root_mean_squared_error: 55421.0195\n",
      "Epoch 84/100\n",
      "563/563 [==============================] - 2s 4ms/step - loss: 2238698240.0000 - root_mean_squared_error: 47314.8828 - val_loss: 3301991168.0000 - val_root_mean_squared_error: 57462.9531\n",
      "Epoch 85/100\n",
      "563/563 [==============================] - 2s 4ms/step - loss: 2263828224.0000 - root_mean_squared_error: 47579.7031 - val_loss: 3851751168.0000 - val_root_mean_squared_error: 62062.4766\n",
      "Epoch 86/100\n",
      "563/563 [==============================] - 2s 4ms/step - loss: 2208287488.0000 - root_mean_squared_error: 46992.4180 - val_loss: 3042097152.0000 - val_root_mean_squared_error: 55155.2109\n",
      "Epoch 87/100\n",
      "563/563 [==============================] - 2s 4ms/step - loss: 2237551872.0000 - root_mean_squared_error: 47302.7695 - val_loss: 3529691648.0000 - val_root_mean_squared_error: 59411.2070\n",
      "Epoch 88/100\n",
      "563/563 [==============================] - 2s 4ms/step - loss: 2253475840.0000 - root_mean_squared_error: 47470.7891 - val_loss: 3555650048.0000 - val_root_mean_squared_error: 59629.2734\n",
      "Epoch 89/100\n",
      "563/563 [==============================] - 2s 4ms/step - loss: 2248325376.0000 - root_mean_squared_error: 47416.5078 - val_loss: 3040284416.0000 - val_root_mean_squared_error: 55138.7734\n",
      "Epoch 90/100\n",
      "563/563 [==============================] - 2s 4ms/step - loss: 2241476352.0000 - root_mean_squared_error: 47344.2344 - val_loss: 4510248448.0000 - val_root_mean_squared_error: 67158.3828\n",
      "Epoch 91/100\n",
      "563/563 [==============================] - 2s 4ms/step - loss: 2294775040.0000 - root_mean_squared_error: 47903.8086 - val_loss: 3046254336.0000 - val_root_mean_squared_error: 55192.8828\n",
      "Epoch 92/100\n",
      "563/563 [==============================] - 2s 4ms/step - loss: 2210482432.0000 - root_mean_squared_error: 47015.7695 - val_loss: 3748997120.0000 - val_root_mean_squared_error: 61229.0547\n",
      "Epoch 93/100\n",
      "563/563 [==============================] - 2s 4ms/step - loss: 2195801344.0000 - root_mean_squared_error: 46859.3789 - val_loss: 3140585984.0000 - val_root_mean_squared_error: 56040.9297\n",
      "Epoch 94/100\n",
      "563/563 [==============================] - 2s 4ms/step - loss: 2739001088.0000 - root_mean_squared_error: 52335.4688 - val_loss: 3039404288.0000 - val_root_mean_squared_error: 55130.7930\n",
      "Epoch 95/100\n",
      "563/563 [==============================] - 2s 4ms/step - loss: 2589365760.0000 - root_mean_squared_error: 50885.8125 - val_loss: 2926936576.0000 - val_root_mean_squared_error: 54101.1680\n",
      "Epoch 96/100\n",
      "563/563 [==============================] - 2s 4ms/step - loss: 2430134528.0000 - root_mean_squared_error: 49296.3945 - val_loss: 3186524928.0000 - val_root_mean_squared_error: 56449.3125\n",
      "Epoch 97/100\n",
      "563/563 [==============================] - 2s 4ms/step - loss: 2356016640.0000 - root_mean_squared_error: 48538.8164 - val_loss: 4814816256.0000 - val_root_mean_squared_error: 69388.8750\n",
      "Epoch 98/100\n",
      "563/563 [==============================] - 2s 4ms/step - loss: 2318492928.0000 - root_mean_squared_error: 48150.7305 - val_loss: 3333638912.0000 - val_root_mean_squared_error: 57737.6719\n",
      "Epoch 99/100\n",
      "563/563 [==============================] - 2s 4ms/step - loss: 2233199104.0000 - root_mean_squared_error: 47256.7344 - val_loss: 3360699392.0000 - val_root_mean_squared_error: 57971.5391\n",
      "Epoch 100/100\n",
      "563/563 [==============================] - 2s 4ms/step - loss: 2256354304.0000 - root_mean_squared_error: 47501.0977 - val_loss: 3628805120.0000 - val_root_mean_squared_error: 60239.5625\n"
     ]
    },
    {
     "data": {
      "text/plain": [
       "<keras.src.callbacks.History at 0x1ff07211510>"
      ]
     },
     "execution_count": 28,
     "metadata": {},
     "output_type": "execute_result"
    }
   ],
   "source": [
    "large_nn = Sequential()\n",
    "large_nn.add(InputLayer((13,)))\n",
    "large_nn.add(Dense(256, 'relu'))\n",
    "large_nn.add(Dense(128, 'relu'))\n",
    "large_nn.add(Dense(64, 'relu'))\n",
    "large_nn.add(Dense(32, 'relu'))\n",
    "large_nn.add(Dense(1, 'linear'))\n",
    "\n",
    "opt = Adam(learning_rate=.1)\n",
    "cp = ModelCheckpoint('models/large_nn', save_best_only=True)\n",
    "large_nn.compile(optimizer=opt, loss='mse', metrics=[RootMeanSquaredError()])\n",
    "large_nn.fit(x=X_train, y=y_train, validation_data=(X_val, y_val), callbacks=[cp], epochs=100)"
   ]
  },
  {
   "cell_type": "code",
   "execution_count": 29,
   "id": "24bbe459",
   "metadata": {},
   "outputs": [
    {
     "name": "stdout",
     "output_type": "stream",
     "text": [
      "563/563 [==============================] - 2s 3ms/step\n",
      "39/39 [==============================] - 0s 3ms/step\n"
     ]
    },
    {
     "data": {
      "text/plain": [
       "(55890.99301630544, 46268.53416585762)"
      ]
     },
     "execution_count": 29,
     "metadata": {},
     "output_type": "execute_result"
    }
   ],
   "source": [
    "large_nn = load_model('models/large_nn')\n",
    "mse(large_nn.predict(X_train), y_train, squared=False), mse(large_nn.predict(X_val), y_val, squared=False)"
   ]
  },
  {
   "cell_type": "code",
   "execution_count": 30,
   "id": "b95fbb99",
   "metadata": {},
   "outputs": [
    {
     "data": {
      "text/plain": [
       "60708.666563218954"
      ]
     },
     "execution_count": 30,
     "metadata": {},
     "output_type": "execute_result"
    }
   ],
   "source": [
    "mse(gbr.predict(X_test), y_test, squared=False)"
   ]
  },
  {
   "cell_type": "code",
   "execution_count": 37,
   "id": "d56053f1",
   "metadata": {},
   "outputs": [
    {
     "name": "stdout",
     "output_type": "stream",
     "text": [
      "Predicted price: 365429.47887104354\n"
     ]
    }
   ],
   "source": [
    "input_data = (-120,40,50,1000,250,3000,450,6.5342,0,0,0,1,0)\n",
    "input_data_numpy = np.asarray(input_data)\n",
    "input_data_reshaped = input_data_numpy.reshape(1,-1)\n",
    "prediction = gbr.predict(input_data_reshaped)\n",
    "\n",
    "print('Predicted price:', prediction[0])"
   ]
  }
 ],
 "metadata": {
  "kernelspec": {
   "display_name": "Python 3 (ipykernel)",
   "language": "python",
   "name": "python3"
  },
  "language_info": {
   "codemirror_mode": {
    "name": "ipython",
    "version": 3
   },
   "file_extension": ".py",
   "mimetype": "text/x-python",
   "name": "python",
   "nbconvert_exporter": "python",
   "pygments_lexer": "ipython3",
   "version": "3.10.9"
  }
 },
 "nbformat": 4,
 "nbformat_minor": 5
}
